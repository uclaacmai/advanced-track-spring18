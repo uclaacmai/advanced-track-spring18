{
  "nbformat": 4,
  "nbformat_minor": 0,
  "metadata": {
    "colab": {
      "name": "CNN_Tutorial.ipynb",
      "version": "0.3.2",
      "views": {},
      "default_view": {},
      "provenance": [],
      "collapsed_sections": []
    },
    "kernelspec": {
      "name": "python3",
      "display_name": "Python 3"
    },
    "accelerator": "GPU"
  },
  "cells": [
    {
      "metadata": {
        "id": "mzv10Zigp_X4",
        "colab_type": "text"
      },
      "cell_type": "markdown",
      "source": [
        "#Hotdog or Not Hotdog?\n",
        "\n",
        "Today, we'll be training a Convolutional Neural Net to classify images\n",
        "\n",
        "The dataset we'll be using is at the link below. Be sure to click the \"Download all\" button. \n",
        "You may have log in to Kaggle. "
      ]
    },
    {
      "metadata": {
        "id": "IrMjh2OCM_Wc",
        "colab_type": "text"
      },
      "cell_type": "markdown",
      "source": [
        "https://www.kaggle.com/dansbecker/hot-dog-not-hot-dog/data"
      ]
    },
    {
      "metadata": {
        "id": "o7gvl6565qtm",
        "colab_type": "text"
      },
      "cell_type": "markdown",
      "source": [
        "##Importing from Google Drive\n",
        "This code block uses PyDrive to import a file from your Google Drive storage\n",
        "onto Colab's local storage."
      ]
    },
    {
      "metadata": {
        "id": "THfCUuZSofOV",
        "colab_type": "code",
        "colab": {
          "autoexec": {
            "startup": false,
            "wait_interval": 0
          },
          "base_uri": "https://localhost:8080/",
          "height": 52
        },
        "outputId": "75b8ff75-d665-4c58-fd62-e5cc9dda63ae",
        "executionInfo": {
          "status": "ok",
          "timestamp": 1526626077079,
          "user_tz": 420,
          "elapsed": 6403,
          "user": {
            "displayName": "Shree Kesava Narayan Prasanna",
            "photoUrl": "//lh5.googleusercontent.com/-H4JILc1aIws/AAAAAAAAAAI/AAAAAAAAB8E/soXBFm0fq8c/s50-c-k-no/photo.jpg",
            "userId": "115175404502111131461"
          }
        }
      },
      "cell_type": "code",
      "source": [
        "!pip install -U -q PyDrive\n",
        "import os\n",
        "from pydrive.auth import GoogleAuth\n",
        "from pydrive.drive import GoogleDrive\n",
        "from google.colab import auth\n",
        "from oauth2client.client import GoogleCredentials\n",
        "\n",
        "# 1. Authenticate and create the PyDrive client.\n",
        "auth.authenticate_user()\n",
        "gauth = GoogleAuth()\n",
        "gauth.credentials = GoogleCredentials.get_application_default()\n",
        "drive = GoogleDrive(gauth)\n",
        "\n",
        "# choose a local (colab) directory to store the data.\n",
        "local_download_path = os.path.expanduser('~/hotdog_data')\n",
        "try:\n",
        "  os.makedirs(local_download_path)\n",
        "except: pass\n",
        "\n",
        "\n",
        "############################################################################\n",
        "####### Have to replace this with a file ID from your Google Drive   #######\n",
        "\n",
        "file_id = '############################'\n",
        "\n",
        "###################### End of replacement portion ##########################\n",
        "############################################################################\n",
        "\n",
        "\n",
        "\n",
        "# 2. Auto-iterate using the query syntax\n",
        "#    https://developers.google.com/drive/v2/web/search-parameters\n",
        "\n",
        "file_lists = []\n",
        "file_list = drive.ListFile({'q': \"'{}' in parents\".format(file_id)}).GetList()\n",
        "for f in file_list:\n",
        "  # 3. Create & download by id.\n",
        "  print('title: %s, id: %s' % (f['title'], f['id']))\n",
        "  fname = os.path.join(local_download_path, f['title'])\n",
        "  print('downloading to {}'.format(fname))\n",
        "  f_ = drive.CreateFile({'id': f['id']})\n",
        "  f_.GetContentFile(fname)\n"
      ],
      "execution_count": 22,
      "outputs": [
        {
          "output_type": "stream",
          "text": [
            "title: hot-dog-not-hot-dog.zip, id: 1Fj8TfjXZAEEZiezObhzq0jzjhgveqZge\n",
            "downloading to /content/hotdog_data/hot-dog-not-hot-dog.zip\n"
          ],
          "name": "stdout"
        }
      ]
    },
    {
      "metadata": {
        "id": "WrDlzm8grTiJ",
        "colab_type": "code",
        "colab": {
          "autoexec": {
            "startup": false,
            "wait_interval": 0
          }
        }
      },
      "cell_type": "code",
      "source": [
        "##### We'll import all the Python modules we need\n",
        "\n",
        "from matplotlib import pyplot as plt\n",
        "import numpy as np\n",
        "from skimage import io\n",
        "from skimage.transform import rescale, resize, downscale_local_mean\n",
        "import glob\n",
        "import random\n",
        "import tensorflow as tf\n",
        "import zipfile"
      ],
      "execution_count": 0,
      "outputs": []
    },
    {
      "metadata": {
        "id": "kbF4NvjRtMVr",
        "colab_type": "code",
        "colab": {
          "autoexec": {
            "startup": false,
            "wait_interval": 0
          }
        }
      },
      "cell_type": "code",
      "source": [
        "#### Unzipping the file you've uploaded\n",
        "\n",
        "zip_path = '{}/hot-dog-not-hot-dog.zip'.format(local_download_path)\n",
        "zip_ref = zipfile.ZipFile('{}/hot-dog-not-hot-dog.zip'.format(local_download_path), 'r')\n",
        "zip_ref.extractall(local_download_path)\n",
        "zip_ref.close()\n",
        "zip_ref = zipfile.ZipFile('{}/seefood.zip'.format(local_download_path), 'r')\n",
        "zip_ref.extractall(local_download_path)\n",
        "zip_ref.close()"
      ],
      "execution_count": 0,
      "outputs": []
    },
    {
      "metadata": {
        "id": "WQ2bkW4i7Cc6",
        "colab_type": "text"
      },
      "cell_type": "markdown",
      "source": [
        "##Getting the dataset ready\n",
        "The data you got isn't ideally structured. There are around 500 images in the train data, and 500 images in the test data. Usually a distribution of 85% train and 15% test is adopted. Here, we've taken 900 images for the train data and 98 for the test. "
      ]
    },
    {
      "metadata": {
        "id": "owwvjbBDHZ9C",
        "colab_type": "code",
        "colab": {
          "autoexec": {
            "startup": false,
            "wait_interval": 0
          }
        }
      },
      "cell_type": "code",
      "source": [
        "test_image_paths = [glob.glob('{}/test/hot_dog/*'.format(local_download_path)) , glob.glob('{}/test/not_hot_dog/*'.format(local_download_path))]\n",
        "train_image_paths = [glob.glob('{}/train/hot_dog/*'.format(local_download_path)) , glob.glob('{}/train/not_hot_dog/*'.format(local_download_path))]\n",
        "for i in range(201):\n",
        "  train_image_paths[0].append(test_image_paths[0][i])\n",
        "  train_image_paths[1].append(test_image_paths[1][i])\n",
        "test_image_paths[0] = test_image_paths[0][201:]\n",
        "test_image_paths[1] = test_image_paths[1][201:]"
      ],
      "execution_count": 0,
      "outputs": []
    },
    {
      "metadata": {
        "id": "t_R3Ja_i81Hf",
        "colab_type": "text"
      },
      "cell_type": "markdown",
      "source": [
        "We now have a two lists, each with a number of paths to images. We need to extract the actual image data now. We'll use the \"io\" subpackage from the skimage module for that"
      ]
    },
    {
      "metadata": {
        "id": "afnOylraQXvU",
        "colab_type": "code",
        "colab": {
          "autoexec": {
            "startup": false,
            "wait_interval": 0
          }
        }
      },
      "cell_type": "code",
      "source": [
        "# the 2 labels\n",
        "one_hot_vectors = np.array([[(lambda i,j: int(i == j))(i,j)  for i in range(2)] for j in range(2)])\n",
        "\n",
        "# function that takes a path to an image and extracts a 64 x 64 x 3 rescaled\n",
        "# version of the image\n",
        "\n",
        "def get_image(path):\n",
        "  pic = io.imread(path)\n",
        "  return resize(pic,(64,64))\n",
        "\n",
        "# function that takes a list of paths ((train/test)_image_paths)\n",
        "# and the number of images that are to be extracted (from each category\n",
        "# of images)\n",
        "\n",
        "def get_images(paths, max_imgs_per_type):\n",
        "  images = []\n",
        "  labels = []\n",
        "  img_ctrs = [0,0]\n",
        "  \n",
        "  max_ind = max_imgs_per_type\n",
        "  for i in range(2 * max_imgs_per_type):\n",
        "    ind = random.randint(0,1)\n",
        "    if(img_ctrs[ind] >= max_ind):\n",
        "      ind = int(not ind)   \n",
        "    image = get_image(paths[ind][img_ctrs[ind]])      \n",
        "    img_ctrs[ind] += 1\n",
        "    images.append(image)\n",
        "    labels.append(one_hot_vectors[ind])\n",
        "  return np.array(images),np.array(labels)\n",
        "  "
      ],
      "execution_count": 0,
      "outputs": []
    },
    {
      "metadata": {
        "id": "kW-dMlCouv-A",
        "colab_type": "code",
        "colab": {
          "autoexec": {
            "startup": false,
            "wait_interval": 0
          },
          "base_uri": "https://localhost:8080/",
          "height": 72
        },
        "outputId": "a38037b7-5f78-4478-e268-d6252cafd83f",
        "executionInfo": {
          "status": "ok",
          "timestamp": 1526626928283,
          "user_tz": 420,
          "elapsed": 12354,
          "user": {
            "displayName": "Shree Kesava Narayan Prasanna",
            "photoUrl": "//lh5.googleusercontent.com/-H4JILc1aIws/AAAAAAAAAAI/AAAAAAAAB8E/soXBFm0fq8c/s50-c-k-no/photo.jpg",
            "userId": "115175404502111131461"
          }
        }
      },
      "cell_type": "code",
      "source": [
        "train_images,train_labels = get_images(train_image_paths, 450)\n",
        "test_images, test_labels = get_images(test_image_paths, 49)\n",
        "\n",
        "train_images_len = len(train_images)"
      ],
      "execution_count": 52,
      "outputs": [
        {
          "output_type": "stream",
          "text": [
            "/usr/local/lib/python3.6/dist-packages/skimage/transform/_warps.py:84: UserWarning: The default mode, 'constant', will be changed to 'reflect' in skimage 0.15.\n",
            "  warn(\"The default mode, 'constant', will be changed to 'reflect' in \"\n"
          ],
          "name": "stderr"
        }
      ]
    },
    {
      "metadata": {
        "id": "gThM-mAwHCKF",
        "colab_type": "code",
        "colab": {
          "autoexec": {
            "startup": false,
            "wait_interval": 0
          },
          "base_uri": "https://localhost:8080/",
          "height": 473
        },
        "outputId": "92b07f52-ef4e-40a8-a5bf-83bbd3263681",
        "executionInfo": {
          "status": "ok",
          "timestamp": 1526626406957,
          "user_tz": 420,
          "elapsed": 831,
          "user": {
            "displayName": "Shree Kesava Narayan Prasanna",
            "photoUrl": "//lh5.googleusercontent.com/-H4JILc1aIws/AAAAAAAAAAI/AAAAAAAAB8E/soXBFm0fq8c/s50-c-k-no/photo.jpg",
            "userId": "115175404502111131461"
          }
        }
      },
      "cell_type": "code",
      "source": [
        "# visualizing what our data looks like is helpful\n",
        "io.imshow(train_images[150])\n",
        "print(train_labels[150])"
      ],
      "execution_count": 45,
      "outputs": [
        {
          "output_type": "stream",
          "text": [
            "[0 1]\n"
          ],
          "name": "stdout"
        },
        {
          "output_type": "stream",
          "text": [
            "/usr/local/lib/python3.6/dist-packages/skimage/io/_plugins/matplotlib_plugin.py:51: FutureWarning: Conversion of the second argument of issubdtype from `float` to `np.floating` is deprecated. In future, it will be treated as `np.float64 == np.dtype(float).type`.\n",
            "  out_of_range_float = (np.issubdtype(image.dtype, np.float) and\n"
          ],
          "name": "stderr"
        },
        {
          "output_type": "display_data",
          "data": {
            "image/png": "[encoded data removed]",
            "text/plain": [
              "<matplotlib.figure.Figure at 0x7f645cd1be80>"
            ]
          },
          "metadata": {
            "tags": []
          }
        }
      ]
    },
    {
      "metadata": {
        "id": "Qwccpit5VOqx",
        "colab_type": "code",
        "colab": {
          "autoexec": {
            "startup": false,
            "wait_interval": 0
          }
        }
      },
      "cell_type": "code",
      "source": [
        "\n",
        "def get_batch_and_labels(batch_size, starting_index, max_len):\n",
        "  batch = []\n",
        "  labels = []\n",
        "  \n",
        "  if starting_index + batch_size >= max_len:\n",
        "    batch = train_images[starting_index:]\n",
        "    labels = train_labels[starting_index:]\n",
        "    batch = np.concatenate((batch,train_images[:batch_size + starting_index - max_len]))\n",
        "    labels = np.concatenate((labels, train_labels[:batch_size + starting_index - max_len]))\n",
        "  else:\n",
        "    batch = train_images[starting_index:starting_index + batch_size]\n",
        "    labels = train_labels[starting_index:starting_index + batch_size]\n",
        "  return np.array(batch), np.array(labels)\n"
      ],
      "execution_count": 0,
      "outputs": []
    },
    {
      "metadata": {
        "id": "duDBeJjxC8F3",
        "colab_type": "text"
      },
      "cell_type": "markdown",
      "source": [
        "##Our CNN model"
      ]
    },
    {
      "metadata": {
        "id": "EZqbm8aFv_XA",
        "colab_type": "code",
        "colab": {
          "autoexec": {
            "startup": false,
            "wait_interval": 0
          }
        }
      },
      "cell_type": "code",
      "source": [
        "n_epochs = 250\n",
        "minibatch_size = 40\n",
        "lr = 1e-4\n",
        "keep = 0.5"
      ],
      "execution_count": 0,
      "outputs": []
    },
    {
      "metadata": {
        "id": "r4F7uKn9eZEX",
        "colab_type": "code",
        "colab": {
          "autoexec": {
            "startup": false,
            "wait_interval": 0
          }
        }
      },
      "cell_type": "code",
      "source": [
        "# our input data\n",
        "x = tf.placeholder(tf.float32, shape = [None, 64,64 , 3])\n",
        "\n",
        "# our softmax predictions \n",
        "y_ = tf.placeholder(tf.float32, shape = [None, 2])"
      ],
      "execution_count": 0,
      "outputs": []
    },
    {
      "metadata": {
        "id": "wpNQK2xdfDKP",
        "colab_type": "code",
        "colab": {
          "autoexec": {
            "startup": false,
            "wait_interval": 0
          }
        }
      },
      "cell_type": "code",
      "source": [
        "def weight_variable(shape):\n",
        "    \"\"\"Initializes weights randomly from a normal distribution\n",
        "    Params: shape: list of dimensionality of the tensor to be initialized\n",
        "    \"\"\"\n",
        "    initial = tf.truncated_normal(shape, stddev=0.1)\n",
        "    return tf.Variable(initial)\n",
        "\n",
        "def bias_variable(shape):\n",
        "    \"\"\"Initializes the bias term randomly from a normal distribution.\n",
        "    Params: shape: list of dimensionality for the bias term.\n",
        "    \"\"\"\n",
        "    initial = tf.constant(0.1, shape=shape)\n",
        "    return tf.Variable(initial)\n"
      ],
      "execution_count": 0,
      "outputs": []
    },
    {
      "metadata": {
        "id": "MG4eIJtDReNT",
        "colab_type": "text"
      },
      "cell_type": "markdown",
      "source": [
        "###Conv + Relu + Pool"
      ]
    },
    {
      "metadata": {
        "id": "wP2dAoxDfKMb",
        "colab_type": "code",
        "colab": {
          "autoexec": {
            "startup": false,
            "wait_interval": 0
          },
          "base_uri": "https://localhost:8080/",
          "height": 35
        },
        "outputId": "def198e6-d46f-441a-97a2-e213de53f468",
        "executionInfo": {
          "status": "ok",
          "timestamp": 1526628691580,
          "user_tz": 420,
          "elapsed": 407,
          "user": {
            "displayName": "Shree Kesava Narayan Prasanna",
            "photoUrl": "//lh5.googleusercontent.com/-H4JILc1aIws/AAAAAAAAAAI/AAAAAAAAB8E/soXBFm0fq8c/s50-c-k-no/photo.jpg",
            "userId": "115175404502111131461"
          }
        }
      },
      "cell_type": "code",
      "source": [
        "W_conv1 = weight_variable([5, 5, 3, 16]) # 5 x 5 kernel (filter), across an image with 3 channels to 16 channels\n",
        "b_conv1 = bias_variable([16])\n",
        "h_conv1 = tf.nn.relu(tf.nn.conv2d(x, W_conv1, strides=[1, 1, 1, 1], padding='SAME') + b_conv1) # conv + relu\n",
        "h_pool1 = tf.nn.max_pool(h_conv1, ksize=[1, 3, 3, 1],strides=[1, 2, 2, 1], padding='SAME') #max pool with 3x3 filter and stride 2\n",
        "h_pool1"
      ],
      "execution_count": 86,
      "outputs": [
        {
          "output_type": "execute_result",
          "data": {
            "text/plain": [
              "<tf.Tensor 'MaxPool_12:0' shape=(?, 32, 32, 16) dtype=float32>"
            ]
          },
          "metadata": {
            "tags": []
          },
          "execution_count": 86
        }
      ]
    },
    {
      "metadata": {
        "id": "C2RJEwTXfsKZ",
        "colab_type": "code",
        "colab": {
          "autoexec": {
            "startup": false,
            "wait_interval": 0
          },
          "base_uri": "https://localhost:8080/",
          "height": 35
        },
        "outputId": "e9d52c70-7a2f-421a-e12c-a46310a2f592",
        "executionInfo": {
          "status": "ok",
          "timestamp": 1526627496239,
          "user_tz": 420,
          "elapsed": 464,
          "user": {
            "displayName": "Shree Kesava Narayan Prasanna",
            "photoUrl": "//lh5.googleusercontent.com/-H4JILc1aIws/AAAAAAAAAAI/AAAAAAAAB8E/soXBFm0fq8c/s50-c-k-no/photo.jpg",
            "userId": "115175404502111131461"
          }
        }
      },
      "cell_type": "code",
      "source": [
        "# Try it yourself !\n",
        "\n",
        "# We want a conv layer (followed by ReLu) with 5x5 filters \n",
        "# (we'll leave it to you to figure out the depth of the filters)\n",
        "# We also want the output to have a depth of 32\n",
        "# We want max pool filters of shape 3x3 that move with stride 2\n",
        "\n",
        "\n",
        "##### Begin inserting code here #####\n",
        "##### Four lines should suffice #####\n",
        "\n",
        "\n",
        "\n",
        "\n",
        "\n",
        "##### End inserting code here #####\n"
      ],
      "execution_count": 76,
      "outputs": [
        {
          "output_type": "execute_result",
          "data": {
            "text/plain": [
              "<tf.Tensor 'MaxPool_9:0' shape=(?, 16, 16, 32) dtype=float32>"
            ]
          },
          "metadata": {
            "tags": []
          },
          "execution_count": 76
        }
      ]
    },
    {
      "metadata": {
        "id": "Q-52M5vdhYEe",
        "colab_type": "code",
        "colab": {
          "autoexec": {
            "startup": false,
            "wait_interval": 0
          },
          "base_uri": "https://localhost:8080/",
          "height": 35
        },
        "outputId": "c79f588b-a63f-41a5-84b8-24be9f7d6085",
        "executionInfo": {
          "status": "ok",
          "timestamp": 1526627497075,
          "user_tz": 420,
          "elapsed": 642,
          "user": {
            "displayName": "Shree Kesava Narayan Prasanna",
            "photoUrl": "//lh5.googleusercontent.com/-H4JILc1aIws/AAAAAAAAAAI/AAAAAAAAB8E/soXBFm0fq8c/s50-c-k-no/photo.jpg",
            "userId": "115175404502111131461"
          }
        }
      },
      "cell_type": "code",
      "source": [
        "# Try it yourself !\n",
        "\n",
        "# We want a conv layer (followed by ReLu) with 3x3 filters\n",
        "# (we'll leave it to you to figure out the depth of the filters)\n",
        "# We also want the output to have a depth of 64\n",
        "# We want max pool filters of shape 2x2 that move with stride 2\n",
        "\n",
        "\n",
        "##### Begin inserting code here #####\n",
        "##### Four lines should suffice #####\n",
        "\n",
        "\n",
        "\n",
        "\n",
        "\n",
        "##### End inserting code here #####"
      ],
      "execution_count": 77,
      "outputs": [
        {
          "output_type": "execute_result",
          "data": {
            "text/plain": [
              "<tf.Tensor 'MaxPool_10:0' shape=(?, 8, 8, 64) dtype=float32>"
            ]
          },
          "metadata": {
            "tags": []
          },
          "execution_count": 77
        }
      ]
    },
    {
      "metadata": {
        "id": "2XN8h2HQudte",
        "colab_type": "code",
        "colab": {
          "autoexec": {
            "startup": false,
            "wait_interval": 0
          },
          "base_uri": "https://localhost:8080/",
          "height": 35
        },
        "outputId": "05d95a83-933a-4f43-c3d7-9074c0c9d8d4",
        "executionInfo": {
          "status": "ok",
          "timestamp": 1526629012218,
          "user_tz": 420,
          "elapsed": 408,
          "user": {
            "displayName": "Shree Kesava Narayan Prasanna",
            "photoUrl": "//lh5.googleusercontent.com/-H4JILc1aIws/AAAAAAAAAAI/AAAAAAAAB8E/soXBFm0fq8c/s50-c-k-no/photo.jpg",
            "userId": "115175404502111131461"
          }
        }
      },
      "cell_type": "code",
      "source": [
        "# Try it yourself !\n",
        "\n",
        "# We want a conv layer (followed by ReLu) with 3x3 filters, but here\n",
        "# we want the filters to move with stride 2 instead of the usual 1\n",
        "# (we'll leave it to you to figure out the depth of the filters)\n",
        "# We also want the output to have a depth of 64\n",
        "# We DON'T want a max pool layer\n",
        "\n",
        "# Make sure this code block runs without errors\n",
        "# (Hint: call the output of this layer h_conv4, \n",
        "# this just makes things easier for us)\n",
        "\n",
        "\n",
        "##### Begin inserting code here #####\n",
        "##### Three lines should suffice #####\n",
        "\n",
        "\n",
        "\n",
        "\n",
        "##### End inserting code here #####\n",
        "h_conv4"
      ],
      "execution_count": 88,
      "outputs": [
        {
          "output_type": "execute_result",
          "data": {
            "text/plain": [
              "<tf.Tensor 'Relu_20:0' shape=(?, 16, 16, 64) dtype=float32>"
            ]
          },
          "metadata": {
            "tags": []
          },
          "execution_count": 88
        }
      ]
    },
    {
      "metadata": {
        "id": "31yh1wMhRlG_",
        "colab_type": "text"
      },
      "cell_type": "markdown",
      "source": [
        "### FC + Dropout"
      ]
    },
    {
      "metadata": {
        "id": "cQZIA42QgLeJ",
        "colab_type": "code",
        "colab": {
          "autoexec": {
            "startup": false,
            "wait_interval": 0
          }
        }
      },
      "cell_type": "code",
      "source": [
        "# flattening h_conv4\n",
        "h_conv_flat = tf.reshape(h_conv4, [-1, 4 * 4 * 64])\n",
        "\n",
        "# Fully connected layer\n",
        "\n",
        "W_fc1 = weight_variable([4 * 4 * 64, 512]) \n",
        "b_fc1 = bias_variable([512])\n",
        "h_fc1 = tf.nn.relu(tf.matmul(h_conv_flat, W_fc1) + b_fc1)\n",
        "\n",
        "# dropout layer\n",
        "keep_prob = tf.placeholder(tf.float32)\n",
        "h_fc1_drop = tf.nn.dropout(h_fc1, keep_prob)"
      ],
      "execution_count": 0,
      "outputs": []
    },
    {
      "metadata": {
        "id": "VMbfJauvgO7J",
        "colab_type": "code",
        "colab": {
          "autoexec": {
            "startup": false,
            "wait_interval": 0
          }
        }
      },
      "cell_type": "code",
      "source": [
        "# Try it yourself !\n",
        "\n",
        "# We want a FC layer that produces a vector of size 128\n",
        "\n",
        "##### Begin inserting code here #####\n",
        "##### Three lines should suffice #####\n",
        "\n",
        "\n",
        "\n",
        "\n",
        "##### End inserting code here #####\n",
        "\n",
        "# We want a dropout layer with the same keep probability as before\n",
        "\n",
        "##### Begin inserting code here #####\n",
        "##### One line should suffice #####\n",
        "\n",
        "\n",
        "##### End inserting code here #####\n"
      ],
      "execution_count": 0,
      "outputs": []
    },
    {
      "metadata": {
        "id": "9vPK0E6ZhPtC",
        "colab_type": "code",
        "colab": {
          "autoexec": {
            "startup": false,
            "wait_interval": 0
          }
        }
      },
      "cell_type": "code",
      "source": [
        "# Try it yourself !\n",
        "\n",
        "# This is our final FC layer \n",
        "# (we leave it to you to figure out what the size of the output vector should be)\n",
        "\n",
        "# This block should run without errors\n",
        "# (Hint: call the output of this layer y_out,\n",
        "# this just makes things easier for us)\n",
        "\n",
        "##### Begin inserting code here #####\n",
        "##### Three lines should suffice #####\n",
        "\n",
        "\n",
        "\n",
        "\n",
        "##### End inserting code here #####\n",
        "y_out"
      ],
      "execution_count": 0,
      "outputs": []
    },
    {
      "metadata": {
        "id": "hPPPUrXtRq_5",
        "colab_type": "text"
      },
      "cell_type": "markdown",
      "source": [
        "###Loss"
      ]
    },
    {
      "metadata": {
        "id": "lHNTkLRIhTi_",
        "colab_type": "code",
        "colab": {
          "autoexec": {
            "startup": false,
            "wait_interval": 0
          }
        }
      },
      "cell_type": "code",
      "source": [
        "cross_entropy = tf.nn.softmax_cross_entropy_with_logits_v2(logits = y_out, labels = y_)\n",
        "train_step = tf.train.AdamOptimizer(lr).minimize(cross_entropy)\n",
        "correct_prediction = tf.equal(tf.argmax(y_, axis = 1), tf.argmax(y_out, axis = 1))\n",
        "accuracy = tf.reduce_mean(tf.cast(correct_prediction, tf.float32))\n",
        "\n",
        "init = tf.global_variables_initializer()"
      ],
      "execution_count": 0,
      "outputs": []
    },
    {
      "metadata": {
        "id": "WFbFhsTNRuJ8",
        "colab_type": "text"
      },
      "cell_type": "markdown",
      "source": [
        "###Training"
      ]
    },
    {
      "metadata": {
        "id": "Q0CvtgnVicz3",
        "colab_type": "code",
        "colab": {
          "autoexec": {
            "startup": false,
            "wait_interval": 0
          },
          "base_uri": "https://localhost:8080/",
          "height": 8701
        },
        "outputId": "b1324d26-2184-42d3-d8e5-d177754e83a6",
        "executionInfo": {
          "status": "ok",
          "timestamp": 1526629246018,
          "user_tz": 420,
          "elapsed": 59208,
          "user": {
            "displayName": "Shree Kesava Narayan Prasanna",
            "photoUrl": "//lh5.googleusercontent.com/-H4JILc1aIws/AAAAAAAAAAI/AAAAAAAAB8E/soXBFm0fq8c/s50-c-k-no/photo.jpg",
            "userId": "115175404502111131461"
          }
        }
      },
      "cell_type": "code",
      "source": [
        "with tf.Session() as sess:\n",
        "  sess.run(init)\n",
        "  for i in range(n_epochs):\n",
        "    training_inputs, training_labels = get_batch_and_labels(minibatch_size, i*minibatch_size, train_images_len)    \n",
        "    if i % 1 == 0:\n",
        "      print(\"epoch:{}\".format(i))\n",
        "      train_acc = accuracy.eval(feed_dict = {x: training_inputs, y_: training_labels, keep_prob : 1.0})\n",
        "      print(\"training accuracy: {}\".format(train_acc))\n",
        "    \n",
        "    ##### sess.run #####\n",
        "    #### Start code insertion (careful with indentation) ####\n",
        "    \n",
        "    \n",
        "    ################## End code insertion ###################\n",
        "  \n",
        "  #### test_acc ####\n",
        "  #### Start code insertion (careful with indentation) ####\n",
        "  \n",
        "  \n",
        "  ################ End code insertion #####################\n",
        "  print(\"test accuracy: {}\".format(test_acc))"
      ],
      "execution_count": 96,
      "outputs": [
        {
          "output_type": "stream",
          "text": [
            "epoch:0\n",
            "training accuracy: 0.44999998807907104\n",
            "epoch:1\n",
            "training accuracy: 0.6000000238418579\n",
            "epoch:2\n",
            "training accuracy: 0.5\n",
            "epoch:3\n",
            "training accuracy: 0.4749999940395355\n",
            "epoch:4\n",
            "training accuracy: 0.574999988079071\n",
            "epoch:5\n",
            "training accuracy: 0.574999988079071\n",
            "epoch:6\n",
            "training accuracy: 0.699999988079071\n",
            "epoch:7\n",
            "training accuracy: 0.42500001192092896\n",
            "epoch:8\n",
            "training accuracy: 0.42500001192092896\n",
            "epoch:9\n",
            "training accuracy: 0.5249999761581421\n",
            "epoch:10\n",
            "training accuracy: 0.4749999940395355\n",
            "epoch:11\n",
            "training accuracy: 0.574999988079071\n",
            "epoch:12\n",
            "training accuracy: 0.32499998807907104\n",
            "epoch:13\n",
            "training accuracy: 0.5249999761581421\n",
            "epoch:14\n",
            "training accuracy: 0.699999988079071\n",
            "epoch:15\n",
            "training accuracy: 0.4000000059604645\n",
            "epoch:16\n",
            "training accuracy: 0.6499999761581421\n",
            "epoch:17\n",
            "training accuracy: 0.574999988079071\n",
            "epoch:18\n",
            "training accuracy: 0.5\n",
            "epoch:19\n",
            "training accuracy: 0.6000000238418579\n",
            "epoch:20\n",
            "training accuracy: 0.550000011920929\n",
            "epoch:21\n",
            "training accuracy: 0.3499999940395355\n",
            "epoch:22\n",
            "training accuracy: 0.42500001192092896\n",
            "epoch:23\n",
            "training accuracy: 0.5666666626930237\n",
            "epoch:24\n",
            "training accuracy: 0.6299999952316284\n",
            "epoch:25\n",
            "training accuracy: 0.5714285969734192\n",
            "epoch:26\n",
            "training accuracy: 0.5388888716697693\n",
            "epoch:27\n",
            "training accuracy: 0.5545454621315002\n",
            "epoch:28\n",
            "training accuracy: 0.5730769038200378\n",
            "epoch:29\n",
            "training accuracy: 0.5799999833106995\n",
            "epoch:30\n",
            "training accuracy: 0.5676470398902893\n",
            "epoch:31\n",
            "training accuracy: 0.5736842155456543\n",
            "epoch:32\n",
            "training accuracy: 0.5809524059295654\n",
            "epoch:33\n",
            "training accuracy: 0.5978260636329651\n",
            "epoch:34\n",
            "training accuracy: 0.6000000238418579\n",
            "epoch:35\n",
            "training accuracy: 0.605555534362793\n",
            "epoch:36\n",
            "training accuracy: 0.6017241477966309\n",
            "epoch:37\n",
            "training accuracy: 0.603225827217102\n",
            "epoch:38\n",
            "training accuracy: 0.6045454740524292\n",
            "epoch:39\n",
            "training accuracy: 0.5985714197158813\n",
            "epoch:40\n",
            "training accuracy: 0.6000000238418579\n",
            "epoch:41\n",
            "training accuracy: 0.607692301273346\n",
            "epoch:42\n",
            "training accuracy: 0.6060975790023804\n",
            "epoch:43\n",
            "training accuracy: 0.6000000238418579\n",
            "epoch:44\n",
            "training accuracy: 0.6044444441795349\n",
            "epoch:45\n",
            "training accuracy: 0.601111114025116\n",
            "epoch:46\n",
            "training accuracy: 0.6033333539962769\n",
            "epoch:47\n",
            "training accuracy: 0.605555534362793\n",
            "epoch:48\n",
            "training accuracy: 0.6044444441795349\n",
            "epoch:49\n",
            "training accuracy: 0.602222204208374\n",
            "epoch:50\n",
            "training accuracy: 0.6044444441795349\n",
            "epoch:51\n",
            "training accuracy: 0.6000000238418579\n",
            "epoch:52\n",
            "training accuracy: 0.6066666841506958\n",
            "epoch:53\n",
            "training accuracy: 0.6133333444595337\n",
            "epoch:54\n",
            "training accuracy: 0.6155555844306946\n",
            "epoch:55\n",
            "training accuracy: 0.6122221946716309\n",
            "epoch:56\n",
            "training accuracy: 0.6033333539962769\n",
            "epoch:57\n",
            "training accuracy: 0.6066666841506958\n",
            "epoch:58\n",
            "training accuracy: 0.6288889050483704\n",
            "epoch:59\n",
            "training accuracy: 0.6233333349227905\n",
            "epoch:60\n",
            "training accuracy: 0.6200000047683716\n",
            "epoch:61\n",
            "training accuracy: 0.6200000047683716\n",
            "epoch:62\n",
            "training accuracy: 0.6311110854148865\n",
            "epoch:63\n",
            "training accuracy: 0.6388888955116272\n",
            "epoch:64\n",
            "training accuracy: 0.6411111354827881\n",
            "epoch:65\n",
            "training accuracy: 0.6455555558204651\n",
            "epoch:66\n",
            "training accuracy: 0.652222216129303\n",
            "epoch:67\n",
            "training accuracy: 0.652222216129303\n",
            "epoch:68\n",
            "training accuracy: 0.652222216129303\n",
            "epoch:69\n",
            "training accuracy: 0.6611111164093018\n",
            "epoch:70\n",
            "training accuracy: 0.6722221970558167\n",
            "epoch:71\n",
            "training accuracy: 0.6744444370269775\n",
            "epoch:72\n"
          ],
          "name": "stdout"
        },
        {
          "output_type": "stream",
          "text": [
            "training accuracy: 0.6822222471237183\n",
            "epoch:73\n",
            "training accuracy: 0.6899999976158142\n",
            "epoch:74\n",
            "training accuracy: 0.7044444680213928\n",
            "epoch:75\n",
            "training accuracy: 0.7099999785423279\n",
            "epoch:76\n",
            "training accuracy: 0.7133333086967468\n",
            "epoch:77\n",
            "training accuracy: 0.7177777886390686\n",
            "epoch:78\n",
            "training accuracy: 0.7177777886390686\n",
            "epoch:79\n",
            "training accuracy: 0.7233333587646484\n",
            "epoch:80\n",
            "training accuracy: 0.7277777791023254\n",
            "epoch:81\n",
            "training accuracy: 0.7344444394111633\n",
            "epoch:82\n",
            "training accuracy: 0.7377777695655823\n",
            "epoch:83\n",
            "training accuracy: 0.742222249507904\n",
            "epoch:84\n",
            "training accuracy: 0.7388888597488403\n",
            "epoch:85\n",
            "training accuracy: 0.7411110997200012\n",
            "epoch:86\n",
            "training accuracy: 0.746666669845581\n",
            "epoch:87\n",
            "training accuracy: 0.7522222399711609\n",
            "epoch:88\n",
            "training accuracy: 0.7599999904632568\n",
            "epoch:89\n",
            "training accuracy: 0.7588889002799988\n",
            "epoch:90\n",
            "training accuracy: 0.754444420337677\n",
            "epoch:91\n",
            "training accuracy: 0.7588889002799988\n",
            "epoch:92\n",
            "training accuracy: 0.7655555605888367\n",
            "epoch:93\n",
            "training accuracy: 0.7633333206176758\n",
            "epoch:94\n",
            "training accuracy: 0.7688888907432556\n",
            "epoch:95\n",
            "training accuracy: 0.7733333110809326\n",
            "epoch:96\n",
            "training accuracy: 0.7755555510520935\n",
            "epoch:97\n",
            "training accuracy: 0.7833333611488342\n",
            "epoch:98\n",
            "training accuracy: 0.7788888812065125\n",
            "epoch:99\n",
            "training accuracy: 0.7811111211776733\n",
            "epoch:100\n",
            "training accuracy: 0.7911111116409302\n",
            "epoch:101\n",
            "training accuracy: 0.7933333516120911\n",
            "epoch:102\n",
            "training accuracy: 0.7955555319786072\n",
            "epoch:103\n",
            "training accuracy: 0.800000011920929\n",
            "epoch:104\n",
            "training accuracy: 0.800000011920929\n",
            "epoch:105\n",
            "training accuracy: 0.8055555820465088\n",
            "epoch:106\n",
            "training accuracy: 0.8055555820465088\n",
            "epoch:107\n",
            "training accuracy: 0.8066666722297668\n",
            "epoch:108\n",
            "training accuracy: 0.8100000023841858\n",
            "epoch:109\n",
            "training accuracy: 0.8177777528762817\n",
            "epoch:110\n",
            "training accuracy: 0.8199999928474426\n",
            "epoch:111\n",
            "training accuracy: 0.8277778029441833\n",
            "epoch:112\n",
            "training accuracy: 0.8277778029441833\n",
            "epoch:113\n",
            "training accuracy: 0.8299999833106995\n",
            "epoch:114\n",
            "training accuracy: 0.8322222232818604\n",
            "epoch:115\n",
            "training accuracy: 0.8311111330986023\n",
            "epoch:116\n",
            "training accuracy: 0.8333333134651184\n",
            "epoch:117\n",
            "training accuracy: 0.8399999737739563\n",
            "epoch:118\n",
            "training accuracy: 0.8399999737739563\n",
            "epoch:119\n",
            "training accuracy: 0.847777783870697\n",
            "epoch:120\n",
            "training accuracy: 0.8544444441795349\n",
            "epoch:121\n",
            "training accuracy: 0.8600000143051147\n",
            "epoch:122\n",
            "training accuracy: 0.8600000143051147\n",
            "epoch:123\n",
            "training accuracy: 0.8655555844306946\n",
            "epoch:124\n",
            "training accuracy: 0.8688889145851135\n",
            "epoch:125\n",
            "training accuracy: 0.8655555844306946\n",
            "epoch:126\n",
            "training accuracy: 0.8644444346427917\n",
            "epoch:127\n",
            "training accuracy: 0.8666666746139526\n",
            "epoch:128\n",
            "training accuracy: 0.8688889145851135\n",
            "epoch:129\n",
            "training accuracy: 0.8644444346427917\n",
            "epoch:130\n",
            "training accuracy: 0.8666666746139526\n",
            "epoch:131\n",
            "training accuracy: 0.8666666746139526\n",
            "epoch:132\n",
            "training accuracy: 0.8744444251060486\n",
            "epoch:133\n",
            "training accuracy: 0.8711110949516296\n",
            "epoch:134\n",
            "training accuracy: 0.8722222447395325\n",
            "epoch:135\n",
            "training accuracy: 0.8744444251060486\n",
            "epoch:136\n"
          ],
          "name": "stdout"
        },
        {
          "output_type": "stream",
          "text": [
            "training accuracy: 0.8744444251060486\n",
            "epoch:137\n",
            "training accuracy: 0.8822222352027893\n",
            "epoch:138\n",
            "training accuracy: 0.897777795791626\n",
            "epoch:139\n",
            "training accuracy: 0.9044444561004639\n",
            "epoch:140\n",
            "training accuracy: 0.9066666960716248\n",
            "epoch:141\n",
            "training accuracy: 0.903333306312561\n",
            "epoch:142\n",
            "training accuracy: 0.8877778053283691\n",
            "epoch:143\n",
            "training accuracy: 0.8866666555404663\n",
            "epoch:144\n",
            "training accuracy: 0.9011111259460449\n",
            "epoch:145\n",
            "training accuracy: 0.9144444465637207\n",
            "epoch:146\n",
            "training accuracy: 0.9200000166893005\n",
            "epoch:147\n",
            "training accuracy: 0.9200000166893005\n",
            "epoch:148\n",
            "training accuracy: 0.9188888669013977\n",
            "epoch:149\n",
            "training accuracy: 0.9166666865348816\n",
            "epoch:150\n",
            "training accuracy: 0.903333306312561\n",
            "epoch:151\n",
            "training accuracy: 0.8955555558204651\n",
            "epoch:152\n",
            "training accuracy: 0.9011111259460449\n",
            "epoch:153\n",
            "training accuracy: 0.9200000166893005\n",
            "epoch:154\n",
            "training accuracy: 0.9233333468437195\n",
            "epoch:155\n",
            "training accuracy: 0.9277777671813965\n",
            "epoch:156\n",
            "training accuracy: 0.9333333373069763\n",
            "epoch:157\n",
            "training accuracy: 0.9222221970558167\n",
            "epoch:158\n",
            "training accuracy: 0.9144444465637207\n",
            "epoch:159\n",
            "training accuracy: 0.9211111068725586\n",
            "epoch:160\n",
            "training accuracy: 0.9322222471237183\n",
            "epoch:161\n",
            "training accuracy: 0.9422222375869751\n",
            "epoch:162\n",
            "training accuracy: 0.9399999976158142\n",
            "epoch:163\n",
            "training accuracy: 0.9433333277702332\n",
            "epoch:164\n",
            "training accuracy: 0.945555567741394\n",
            "epoch:165\n",
            "training accuracy: 0.9444444179534912\n",
            "epoch:166\n",
            "training accuracy: 0.9411110877990723\n",
            "epoch:167\n",
            "training accuracy: 0.9466666579246521\n",
            "epoch:168\n",
            "training accuracy: 0.949999988079071\n",
            "epoch:169\n",
            "training accuracy: 0.948888897895813\n",
            "epoch:170\n",
            "training accuracy: 0.948888897895813\n",
            "epoch:171\n",
            "training accuracy: 0.9433333277702332\n",
            "epoch:172\n",
            "training accuracy: 0.9477777481079102\n",
            "epoch:173\n",
            "training accuracy: 0.949999988079071\n",
            "epoch:174\n",
            "training accuracy: 0.949999988079071\n",
            "epoch:175\n",
            "training accuracy: 0.9522222280502319\n",
            "epoch:176\n",
            "training accuracy: 0.949999988079071\n",
            "epoch:177\n",
            "training accuracy: 0.9555555582046509\n",
            "epoch:178\n",
            "training accuracy: 0.9566666483879089\n",
            "epoch:179\n",
            "training accuracy: 0.9599999785423279\n",
            "epoch:180\n",
            "training accuracy: 0.9577777981758118\n",
            "epoch:181\n",
            "training accuracy: 0.9577777981758118\n",
            "epoch:182\n",
            "training accuracy: 0.9599999785423279\n",
            "epoch:183\n",
            "training accuracy: 0.9633333086967468\n",
            "epoch:184\n",
            "training accuracy: 0.9677777886390686\n",
            "epoch:185\n",
            "training accuracy: 0.9666666388511658\n",
            "epoch:186\n",
            "training accuracy: 0.9688888788223267\n",
            "epoch:187\n",
            "training accuracy: 0.9688888788223267\n",
            "epoch:188\n",
            "training accuracy: 0.9688888788223267\n",
            "epoch:189\n",
            "training accuracy: 0.9711111187934875\n",
            "epoch:190\n",
            "training accuracy: 0.9766666889190674\n",
            "epoch:191\n",
            "training accuracy: 0.9744444489479065\n",
            "epoch:192\n",
            "training accuracy: 0.9755555391311646\n",
            "epoch:193\n",
            "training accuracy: 0.9711111187934875\n",
            "epoch:194\n",
            "training accuracy: 0.9766666889190674\n",
            "epoch:195\n",
            "training accuracy: 0.9755555391311646\n",
            "epoch:196\n",
            "training accuracy: 0.9777777791023254\n",
            "epoch:197\n",
            "training accuracy: 0.9800000190734863\n",
            "epoch:198\n",
            "training accuracy: 0.9733333587646484\n",
            "epoch:199\n",
            "training accuracy: 0.9766666889190674\n",
            "epoch:200\n"
          ],
          "name": "stdout"
        },
        {
          "output_type": "stream",
          "text": [
            "training accuracy: 0.9788888692855835\n",
            "epoch:201\n",
            "training accuracy: 0.9822221994400024\n",
            "epoch:202\n",
            "training accuracy: 0.9822221994400024\n",
            "epoch:203\n",
            "training accuracy: 0.9833333492279053\n",
            "epoch:204\n",
            "training accuracy: 0.9833333492279053\n",
            "epoch:205\n",
            "training accuracy: 0.9833333492279053\n",
            "epoch:206\n",
            "training accuracy: 0.9833333492279053\n",
            "epoch:207\n",
            "training accuracy: 0.9855555295944214\n",
            "epoch:208\n",
            "training accuracy: 0.9855555295944214\n",
            "epoch:209\n",
            "training accuracy: 0.9855555295944214\n",
            "epoch:210\n",
            "training accuracy: 0.9855555295944214\n",
            "epoch:211\n",
            "training accuracy: 0.9866666793823242\n",
            "epoch:212\n",
            "training accuracy: 0.9866666793823242\n",
            "epoch:213\n",
            "training accuracy: 0.9855555295944214\n",
            "epoch:214\n",
            "training accuracy: 0.9855555295944214\n",
            "epoch:215\n",
            "training accuracy: 0.9877777695655823\n",
            "epoch:216\n",
            "training accuracy: 0.9844444394111633\n",
            "epoch:217\n",
            "training accuracy: 0.9844444394111633\n",
            "epoch:218\n",
            "training accuracy: 0.9866666793823242\n",
            "epoch:219\n",
            "training accuracy: 0.9877777695655823\n",
            "epoch:220\n",
            "training accuracy: 0.9900000095367432\n",
            "epoch:221\n",
            "training accuracy: 0.9888888597488403\n",
            "epoch:222\n",
            "training accuracy: 0.9877777695655823\n",
            "epoch:223\n",
            "training accuracy: 0.9877777695655823\n",
            "epoch:224\n",
            "training accuracy: 0.9888888597488403\n",
            "epoch:225\n",
            "training accuracy: 0.9900000095367432\n",
            "epoch:226\n",
            "training accuracy: 0.9900000095367432\n",
            "epoch:227\n",
            "training accuracy: 0.9888888597488403\n",
            "epoch:228\n",
            "training accuracy: 0.9888888597488403\n",
            "epoch:229\n",
            "training accuracy: 0.9888888597488403\n",
            "epoch:230\n",
            "training accuracy: 0.9900000095367432\n",
            "epoch:231\n",
            "training accuracy: 0.9900000095367432\n",
            "epoch:232\n",
            "training accuracy: 0.9900000095367432\n",
            "epoch:233\n",
            "training accuracy: 0.9900000095367432\n",
            "epoch:234\n",
            "training accuracy: 0.9900000095367432\n",
            "epoch:235\n",
            "training accuracy: 0.9911110997200012\n",
            "epoch:236\n",
            "training accuracy: 0.992222249507904\n",
            "epoch:237\n",
            "training accuracy: 0.992222249507904\n",
            "epoch:238\n",
            "training accuracy: 0.9933333396911621\n",
            "epoch:239\n",
            "training accuracy: 0.9933333396911621\n",
            "epoch:240\n",
            "training accuracy: 0.9933333396911621\n",
            "epoch:241\n",
            "training accuracy: 0.9933333396911621\n",
            "epoch:242\n",
            "training accuracy: 0.992222249507904\n",
            "epoch:243\n",
            "training accuracy: 0.992222249507904\n",
            "epoch:244\n",
            "training accuracy: 0.9933333396911621\n",
            "epoch:245\n",
            "training accuracy: 0.9944444298744202\n",
            "epoch:246\n",
            "training accuracy: 0.9944444298744202\n",
            "epoch:247\n",
            "training accuracy: 0.995555579662323\n",
            "epoch:248\n",
            "training accuracy: 0.995555579662323\n",
            "epoch:249\n",
            "training accuracy: 0.9944444298744202\n",
            "test accuracy: 0.6020408272743225\n"
          ],
          "name": "stdout"
        }
      ]
    },
    {
      "metadata": {
        "id": "hgY4e-0mQXiO",
        "colab_type": "text"
      },
      "cell_type": "markdown",
      "source": [
        "##Results\n",
        "\n",
        "You'll see our model achieved a good training accuracy but a pretty bad test accuracy.\n",
        "\n",
        "Why is our model doing badly with test data?\n",
        "\n",
        "What are the remedies ?\n"
      ]
    },
    {
      "metadata": {
        "id": "KQsg5qJKQ0Io",
        "colab_type": "text"
      },
      "cell_type": "markdown",
      "source": [
        "##More resources:\n",
        "\n",
        "http://cs231n.github.io/convolutional-networks/\n"
      ]
    }
  ]
}