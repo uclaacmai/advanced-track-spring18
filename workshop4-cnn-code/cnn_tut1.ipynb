{
  "nbformat": 4,
  "nbformat_minor": 0,
  "metadata": {
    "colab": {
      "name": "cnn_tut1.ipynb",
      "version": "0.3.2",
      "views": {},
      "default_view": {},
      "provenance": [],
      "collapsed_sections": []
    },
    "kernelspec": {
      "name": "python3",
      "display_name": "Python 3"
    },
    "accelerator": "GPU"
  },
  "cells": [
    {
      "metadata": {
        "id": "THfCUuZSofOV",
        "colab_type": "code",
        "colab": {
          "autoexec": {
            "startup": false,
            "wait_interval": 0
          }
        }
      },
      "cell_type": "code",
      "source": [
        "!pip install -U -q PyDrive\n",
        "import os\n",
        "from pydrive.auth import GoogleAuth\n",
        "from pydrive.drive import GoogleDrive\n",
        "from google.colab import auth\n",
        "from oauth2client.client import GoogleCredentials\n",
        "\n",
        "# 1. Authenticate and create the PyDrive client.\n",
        "auth.authenticate_user()\n",
        "gauth = GoogleAuth()\n",
        "gauth.credentials = GoogleCredentials.get_application_default()\n",
        "drive = GoogleDrive(gauth)\n",
        "\n",
        "# choose a local (colab) directory to store the data.\n",
        "local_download_paths = [os.path.expanduser('~/data{}'.format(i)) for i in range(10)]\n",
        "try:\n",
        "  [os.makedirs(local_download_path) for local_download_path in local_download_paths]\n",
        "except: pass\n",
        "\n",
        "ids = ['1yGDDIp1VvuOrGmdRYA3ubrMC5thfgeg9', '1AG2h45GycGe60UaHDHqBN6zIVwcuQzix',\n",
        "      '1VZxnT934IIcKFKTjQVXDOAPdeKbGgDRT', '1zLTbEVnz8IYo6PuwKrfuZl8kLRgYFQHu',\n",
        "      '1KPjMbKb6jOJ3V6W6niay8O0yfApymDK8', '1e8dfhaIyUwFU8-RcDCf0MG5_9vqOKIxb',\n",
        "      '1WHf_7EklerFYfLjPRHGbI4FVWForZuu9', '1rpyTIwmLUPRuOfatzhUjGwtnHpOa0TaO',\n",
        "      '1DXe6LmSKA7UAxwFd_-xG7508chU-Ys1E', '1Vgjkw3ra8Q0QwlcLVXXio9dHlFp1nYSN']\n",
        "\n",
        "# 2. Auto-iterate using the query syntax\n",
        "#    https://developers.google.com/drive/v2/web/search-parameters\n",
        "#file_lists = [drive.ListFile({'q': \"{} in parents\".format('{}'.format(oneid))}).GetList() for oneid in ids]\n",
        "\n",
        "file_lists = []\n",
        "file_lists = [drive.ListFile({'q': \"'{}' in parents\".format(oneid)}).GetList() for oneid in ids]\n",
        "for file_list,local_download_path in zip(file_lists,local_download_paths):  \n",
        "  for f in file_list:\n",
        "    # 3. Create & download by id.\n",
        "    #print('title: %s, id: %s' % (f['title'], f['id']))\n",
        "    fname = os.path.join(local_download_path, f['title'])\n",
        "    #print('downloading to {}'.format(fname))\n",
        "    f_ = drive.CreateFile({'id': f['id']})\n",
        "    f_.GetContentFile(fname)\n",
        "  print(\"done with {}\".format(local_download_path))\n",
        "\n",
        "\n",
        "#with open(fname, 'r') as f:\n",
        "#  print(f.read())"
      ],
      "execution_count": 0,
      "outputs": []
    },
    {
      "metadata": {
        "id": "2Sn1XQg0dal9",
        "colab_type": "code",
        "colab": {
          "autoexec": {
            "startup": false,
            "wait_interval": 0
          }
        }
      },
      "cell_type": "code",
      "source": [
        "!pip install -U -q PyDrive\n",
        "import os\n",
        "from pydrive.auth import GoogleAuth\n",
        "from pydrive.drive import GoogleDrive\n",
        "from google.colab import auth\n",
        "from oauth2client.client import GoogleCredentials\n",
        "\n",
        "# 1. Authenticate and create the PyDrive client.\n",
        "auth.authenticate_user()\n",
        "gauth = GoogleAuth()\n",
        "gauth.credentials = GoogleCredentials.get_application_default()\n",
        "drive = GoogleDrive(gauth)\n",
        "\n",
        "# choose a local (colab) directory to store the data.\n",
        "local_download_paths = [os.path.expanduser('~/data{}'.format(i)) for i in range(10)]"
      ],
      "execution_count": 0,
      "outputs": []
    },
    {
      "metadata": {
        "id": "WrDlzm8grTiJ",
        "colab_type": "code",
        "colab": {
          "autoexec": {
            "startup": false,
            "wait_interval": 0
          }
        }
      },
      "cell_type": "code",
      "source": [
        "from matplotlib import pyplot\n",
        "import numpy as np\n",
        "from skimage import io\n",
        "import glob\n",
        "import random\n",
        "import tensorflow as tf"
      ],
      "execution_count": 0,
      "outputs": []
    },
    {
      "metadata": {
        "id": "sQmo8MUWsich",
        "colab_type": "code",
        "colab": {
          "autoexec": {
            "startup": false,
            "wait_interval": 0
          },
          "base_uri": "https://localhost:8080/",
          "height": 35
        },
        "outputId": "596ea1e5-3502-4f57-d3dd-eba085691c60",
        "executionInfo": {
          "status": "ok",
          "timestamp": 1526207905628,
          "user_tz": 420,
          "elapsed": 395,
          "user": {
            "displayName": "Shree Kesava Narayan Prasanna",
            "photoUrl": "//lh5.googleusercontent.com/-H4JILc1aIws/AAAAAAAAAAI/AAAAAAAAB8E/soXBFm0fq8c/s50-c-k-no/photo.jpg",
            "userId": "115175404502111131461"
          }
        }
      },
      "cell_type": "code",
      "source": [
        "os.path.expanduser('~/data')"
      ],
      "execution_count": 197,
      "outputs": [
        {
          "output_type": "execute_result",
          "data": {
            "text/plain": [
              "'/content/data'"
            ]
          },
          "metadata": {
            "tags": []
          },
          "execution_count": 197
        }
      ]
    },
    {
      "metadata": {
        "id": "kbF4NvjRtMVr",
        "colab_type": "code",
        "colab": {
          "autoexec": {
            "startup": false,
            "wait_interval": 0
          },
          "base_uri": "https://localhost:8080/",
          "height": 156
        },
        "outputId": "5b582f71-12b9-4140-99ef-bb050a3e74c2",
        "executionInfo": {
          "status": "ok",
          "timestamp": 1526257635572,
          "user_tz": 420,
          "elapsed": 1066,
          "user": {
            "displayName": "Shree Kesava Narayan Prasanna",
            "photoUrl": "//lh5.googleusercontent.com/-H4JILc1aIws/AAAAAAAAAAI/AAAAAAAAB8E/soXBFm0fq8c/s50-c-k-no/photo.jpg",
            "userId": "115175404502111131461"
          }
        }
      },
      "cell_type": "code",
      "source": [
        "os.listdir('/content')"
      ],
      "execution_count": 3,
      "outputs": [
        {
          "output_type": "execute_result",
          "data": {
            "text/plain": [
              "['datalab',\n",
              " '.local',\n",
              " '.cache',\n",
              " '.forever',\n",
              " '.rnd',\n",
              " '.config',\n",
              " '.ipython',\n",
              " '.keras']"
            ]
          },
          "metadata": {
            "tags": []
          },
          "execution_count": 3
        }
      ]
    },
    {
      "metadata": {
        "id": "ul8ghLsAuCQz",
        "colab_type": "code",
        "colab": {
          "autoexec": {
            "startup": false,
            "wait_interval": 0
          },
          "base_uri": "https://localhost:8080/",
          "height": 35
        },
        "outputId": "da4d490b-fe5d-4ff3-838e-4cb1c9819eef",
        "executionInfo": {
          "status": "ok",
          "timestamp": 1526207909617,
          "user_tz": 420,
          "elapsed": 600,
          "user": {
            "displayName": "Shree Kesava Narayan Prasanna",
            "photoUrl": "//lh5.googleusercontent.com/-H4JILc1aIws/AAAAAAAAAAI/AAAAAAAAB8E/soXBFm0fq8c/s50-c-k-no/photo.jpg",
            "userId": "115175404502111131461"
          }
        }
      },
      "cell_type": "code",
      "source": [
        "\n",
        "np.asarray(io.imread('/content/data7/IMG_5874.JPG')).shape"
      ],
      "execution_count": 199,
      "outputs": [
        {
          "output_type": "execute_result",
          "data": {
            "text/plain": [
              "(3024, 3024, 3)"
            ]
          },
          "metadata": {
            "tags": []
          },
          "execution_count": 199
        }
      ]
    },
    {
      "metadata": {
        "id": "HbegH3ZI82pg",
        "colab_type": "code",
        "colab": {
          "autoexec": {
            "startup": false,
            "wait_interval": 0
          },
          "base_uri": "https://localhost:8080/",
          "height": 104
        },
        "outputId": "aa86a248-ef74-4560-e85f-37595c0e2bdf",
        "executionInfo": {
          "status": "ok",
          "timestamp": 1526207913310,
          "user_tz": 420,
          "elapsed": 407,
          "user": {
            "displayName": "Shree Kesava Narayan Prasanna",
            "photoUrl": "//lh5.googleusercontent.com/-H4JILc1aIws/AAAAAAAAAAI/AAAAAAAAB8E/soXBFm0fq8c/s50-c-k-no/photo.jpg",
            "userId": "115175404502111131461"
          }
        }
      },
      "cell_type": "code",
      "source": [
        "#getting the path to every image. Is a nested list. List contains 10 lists. Each of the 10 lists\n",
        "#contains about 200 image paths\n",
        "\n",
        "img_names = [[os.path.join(local_download_path,img) for img in os.listdir(local_download_path)] for local_download_path in local_download_paths]\n",
        "\n",
        "#Example: first five images of the digit 3\n",
        "\n",
        "img_names[3][0:5]"
      ],
      "execution_count": 200,
      "outputs": [
        {
          "output_type": "execute_result",
          "data": {
            "text/plain": [
              "['/content/data3/IMG_5850.JPG',\n",
              " '/content/data3/IMG_4499.JPG',\n",
              " '/content/data3/IMG_5799.JPG',\n",
              " '/content/data3/IMG_1141.JPG',\n",
              " '/content/data3/IMG_1315.JPG']"
            ]
          },
          "metadata": {
            "tags": []
          },
          "execution_count": 200
        }
      ]
    },
    {
      "metadata": {
        "id": "oSWTMbny2tjr",
        "colab_type": "code",
        "colab": {
          "autoexec": {
            "startup": false,
            "wait_interval": 0
          },
          "base_uri": "https://localhost:8080/",
          "height": 121
        },
        "outputId": "b7cf72f6-e1fb-48e5-bc62-9f755afda677",
        "executionInfo": {
          "status": "ok",
          "timestamp": 1526207919657,
          "user_tz": 420,
          "elapsed": 2174,
          "user": {
            "displayName": "Shree Kesava Narayan Prasanna",
            "photoUrl": "//lh5.googleusercontent.com/-H4JILc1aIws/AAAAAAAAAAI/AAAAAAAAB8E/soXBFm0fq8c/s50-c-k-no/photo.jpg",
            "userId": "115175404502111131461"
          }
        }
      },
      "cell_type": "code",
      "source": [
        "i = 0\n",
        "for dig in img_names:\n",
        "  for img,i in zip(dig,range(len(dig))):\n",
        "    if(io.imread(img).shape != (100,100,3)):\n",
        "      print(img)\n",
        "      print(i)\n",
        "#print (i)\n"
      ],
      "execution_count": 201,
      "outputs": [
        {
          "output_type": "stream",
          "text": [
            "/content/data7/IMG_5978.JPG\n",
            "34\n",
            "/content/data7/IMG_5874.JPG\n",
            "46\n",
            "/content/data7/IMG_5935.JPG\n",
            "73\n"
          ],
          "name": "stdout"
        }
      ]
    },
    {
      "metadata": {
        "id": "cO6f4tCV-ZMv",
        "colab_type": "code",
        "colab": {
          "autoexec": {
            "startup": false,
            "wait_interval": 0
          },
          "base_uri": "https://localhost:8080/",
          "height": 191
        },
        "outputId": "e38cde2c-a700-452a-e5d4-d7af2847e356",
        "executionInfo": {
          "status": "ok",
          "timestamp": 1526207923020,
          "user_tz": 420,
          "elapsed": 528,
          "user": {
            "displayName": "Shree Kesava Narayan Prasanna",
            "photoUrl": "//lh5.googleusercontent.com/-H4JILc1aIws/AAAAAAAAAAI/AAAAAAAAB8E/soXBFm0fq8c/s50-c-k-no/photo.jpg",
            "userId": "115175404502111131461"
          }
        }
      },
      "cell_type": "code",
      "source": [
        "#img_ctrs keeps track of the images used from each digit set\n",
        "#every time a batch is gotten, a random integer 'ind' is seleced b/w 0 and 9 (to select the digit)\n",
        "#img_ctrs[ind] is the position of the image in 'ind' digit set that is added to the batch\n",
        "#img_ctrs[ind] is then incremented\n",
        "\n",
        "img_ctrs = [0 for i in range(10)]\n",
        "max_imgs_per_dig = 170\n",
        "my_batch_size = 50\n",
        "\n",
        "#the 10 labels \n",
        "one_hot_vectors = [[(lambda i,j: int(i == j))(i,j)  for i in range(10)] for j in range(10)]\n",
        "one_hot_vectors = np.array(one_hot_vectors)\n",
        "one_hot_vectors"
      ],
      "execution_count": 202,
      "outputs": [
        {
          "output_type": "execute_result",
          "data": {
            "text/plain": [
              "array([[1, 0, 0, 0, 0, 0, 0, 0, 0, 0],\n",
              "       [0, 1, 0, 0, 0, 0, 0, 0, 0, 0],\n",
              "       [0, 0, 1, 0, 0, 0, 0, 0, 0, 0],\n",
              "       [0, 0, 0, 1, 0, 0, 0, 0, 0, 0],\n",
              "       [0, 0, 0, 0, 1, 0, 0, 0, 0, 0],\n",
              "       [0, 0, 0, 0, 0, 1, 0, 0, 0, 0],\n",
              "       [0, 0, 0, 0, 0, 0, 1, 0, 0, 0],\n",
              "       [0, 0, 0, 0, 0, 0, 0, 1, 0, 0],\n",
              "       [0, 0, 0, 0, 0, 0, 0, 0, 1, 0],\n",
              "       [0, 0, 0, 0, 0, 0, 0, 0, 0, 1]])"
            ]
          },
          "metadata": {
            "tags": []
          },
          "execution_count": 202
        }
      ]
    },
    {
      "metadata": {
        "id": "0hz5TCIruWtk",
        "colab_type": "code",
        "colab": {
          "autoexec": {
            "startup": false,
            "wait_interval": 0
          }
        }
      },
      "cell_type": "code",
      "source": [
        "def get_batch_and_labels(batch_size):\n",
        "  batch1 = []\n",
        "  labels1 = []\n",
        "  for i in range(batch_size):\n",
        "    ind = random.randint(0,9)\n",
        "    if(img_ctrs[ind] > max_imgs_per_dig):\n",
        "      img_ctrs[ind] = 0\n",
        "    image = io.imread(img_names[ind][img_ctrs[ind]]).astype(float)\n",
        "    \n",
        "    if(image.shape != (100,100,3)):\n",
        "      img_ctrs[ind] += 1\n",
        "      if(img_ctrs[ind] > max_imgs_per_dig):\n",
        "        img_ctrs[ind] = 0\n",
        "      image = io.imread(img_names[ind][img_ctrs[ind]]).astype(float)\n",
        "    \n",
        "    #print(img_names[ind][img_ctrs[ind]])\n",
        "    assert(image.shape == (100,100,3))\n",
        "    img_ctrs[ind] += 1\n",
        "    batch1.append(image)\n",
        "    labels1.append(one_hot_vectors[ind])\n",
        "  return np.array(batch1),np.array(labels1)\n",
        "    \n",
        "def get_test_batch_and_labels():\n",
        "  batch1 = []\n",
        "  labels1 = []\n",
        "  for dig,label in zip(img_names,one_hot_vectors):\n",
        "    for i in range(171,201):\n",
        "      image = (io.imread(dig[i])).astype(float)\n",
        "      if(image.shape != (100,100,3)):\n",
        "        continue\n",
        "      batch1.append(image)\n",
        "      labels1.append(label)\n",
        "  return np.array(batch1),np.array(labels1)"
      ],
      "execution_count": 0,
      "outputs": []
    },
    {
      "metadata": {
        "id": "rMlLnSAevtQZ",
        "colab_type": "code",
        "colab": {
          "autoexec": {
            "startup": false,
            "wait_interval": 0
          }
        }
      },
      "cell_type": "code",
      "source": [
        "#batch, labels = get_batch_and_labels(my_batch_size)\n",
        "#type(batch)\n",
        "#print(img_ctrs)\n",
        "#print(labels.shape)"
      ],
      "execution_count": 0,
      "outputs": []
    },
    {
      "metadata": {
        "id": "EZqbm8aFv_XA",
        "colab_type": "code",
        "colab": {
          "autoexec": {
            "startup": false,
            "wait_interval": 0
          }
        }
      },
      "cell_type": "code",
      "source": [
        "n_epochs = 2000\n",
        "minibatch_size = 10\n",
        "lr = 1e-4\n",
        "keep = 0.5"
      ],
      "execution_count": 0,
      "outputs": []
    },
    {
      "metadata": {
        "id": "r4F7uKn9eZEX",
        "colab_type": "code",
        "colab": {
          "autoexec": {
            "startup": false,
            "wait_interval": 0
          }
        }
      },
      "cell_type": "code",
      "source": [
        "x = tf.placeholder(tf.float32, shape = [None, 100, 100, 3])\n",
        "\n",
        "y_ = tf.placeholder(tf.float32, shape = [None, 10])"
      ],
      "execution_count": 0,
      "outputs": []
    },
    {
      "metadata": {
        "id": "wpNQK2xdfDKP",
        "colab_type": "code",
        "colab": {
          "autoexec": {
            "startup": false,
            "wait_interval": 0
          }
        }
      },
      "cell_type": "code",
      "source": [
        "def weight_variable(shape):\n",
        "    \"\"\"Initializes weights randomly from a normal distribution\n",
        "    Params: shape: list of dimensionality of the tensor to be initialized\n",
        "    \"\"\"\n",
        "    initial = tf.truncated_normal(shape, stddev=0.1)\n",
        "    return tf.Variable(initial)\n",
        "\n",
        "def bias_variable(shape):\n",
        "    \"\"\"Initializes the bias term randomly from a normal distribution.\n",
        "    Params: shape: list of dimensionality for the bias term.\n",
        "    \"\"\"\n",
        "    initial = tf.constant(0.1, shape=shape)\n",
        "    return tf.Variable(initial)\n",
        "\n",
        "def conv2d(x, W):\n",
        "    \"\"\"Performs a convolution over a given patch x with some filter W.\n",
        "    Uses a stride of length 1 and SAME padding (padded with zeros at the edges)\n",
        "    Params:\n",
        "    x: tensor: the image to be convolved over\n",
        "    W: the kernel (tensor) with which to convolve.\n",
        "    \"\"\"\n",
        "    return tf.nn.conv2d(x, W, strides=[1, 1, 1, 1], padding='SAME')\n",
        "# strides is a length-4 list that specifies the amount to move for each dimension of our input x. \n",
        "# the dimensions correspond to the following (in order): batch_size, length of image, width of image, # of channels in image\n",
        "\n",
        "def max_pool_2x2(x):\n",
        "    \"\"\"Performs a max pooling operation over a 2 x 2 region\"\"\"\n",
        "    # ksize: we only want to take the maximum over 1 example and 1 channel. \n",
        "    # the middle elements are 2 x 2 because we want to take maxima over 2 x 2 regions\n",
        "    \n",
        "    return tf.nn.max_pool(x, ksize=[1, 2, 2, 1],\n",
        "                        strides=[1, 2, 2, 1], padding='SAME') # stride 2 right and 2 down"
      ],
      "execution_count": 0,
      "outputs": []
    },
    {
      "metadata": {
        "id": "wP2dAoxDfKMb",
        "colab_type": "code",
        "colab": {
          "autoexec": {
            "startup": false,
            "wait_interval": 0
          }
        }
      },
      "cell_type": "code",
      "source": [
        "W_conv1 = weight_variable([3, 3, 3, 32]) # 5 x 5 kernel, across an image with 3 channels to 32 channels\n",
        "b_conv1 = bias_variable([32])\n",
        "h_conv1 = tf.nn.relu(conv2d(x, W_conv1) + b_conv1)\n",
        "h_pool1 = max_pool_2x2(h_conv1)"
      ],
      "execution_count": 0,
      "outputs": []
    },
    {
      "metadata": {
        "id": "C2RJEwTXfsKZ",
        "colab_type": "code",
        "colab": {
          "autoexec": {
            "startup": false,
            "wait_interval": 0
          }
        }
      },
      "cell_type": "code",
      "source": [
        "W_conv2 = weight_variable([3, 3, 32, 64]) # 5 x 5 kernel, across an \"image\" with 32 channels to 64 channels\n",
        "b_conv2 = bias_variable([64])\n",
        "h_conv2 = tf.nn.relu(conv2d(h_pool1, W_conv2) + b_conv2)\n",
        "h_pool2 = max_pool_2x2(h_conv2)"
      ],
      "execution_count": 0,
      "outputs": []
    },
    {
      "metadata": {
        "id": "2XN8h2HQudte",
        "colab_type": "code",
        "colab": {
          "autoexec": {
            "startup": false,
            "wait_interval": 0
          },
          "base_uri": "https://localhost:8080/",
          "height": 35
        },
        "outputId": "257a8532-8d03-4a2c-d7c0-103231a09ed0",
        "executionInfo": {
          "status": "ok",
          "timestamp": 1526207979859,
          "user_tz": 420,
          "elapsed": 389,
          "user": {
            "displayName": "Shree Kesava Narayan Prasanna",
            "photoUrl": "//lh5.googleusercontent.com/-H4JILc1aIws/AAAAAAAAAAI/AAAAAAAAB8E/soXBFm0fq8c/s50-c-k-no/photo.jpg",
            "userId": "115175404502111131461"
          }
        }
      },
      "cell_type": "code",
      "source": [
        "W_conv3 = weight_variable([3, 3, 64, 128]) # 5 x 5 kernel, across an \"image\" with 32 channels to 64 channels\n",
        "b_conv3 = bias_variable([128])\n",
        "h_conv3 = tf.nn.relu(conv2d(h_pool2, W_conv3) + b_conv3)\n",
        "h_pool3 = max_pool_2x2(h_conv3)\n",
        "h_pool3"
      ],
      "execution_count": 210,
      "outputs": [
        {
          "output_type": "execute_result",
          "data": {
            "text/plain": [
              "<tf.Tensor 'MaxPool_41:0' shape=(?, 13, 13, 128) dtype=float32>"
            ]
          },
          "metadata": {
            "tags": []
          },
          "execution_count": 210
        }
      ]
    },
    {
      "metadata": {
        "id": "Fxp66enz8E09",
        "colab_type": "code",
        "colab": {
          "autoexec": {
            "startup": false,
            "wait_interval": 0
          }
        }
      },
      "cell_type": "code",
      "source": [
        "W_conv4 = weight_variable([3, 3, 128, 256]) # 5 x 5 kernel, across an \"image\" with 32 channels to 64 channels\n",
        "b_conv4 = bias_variable([256])\n",
        "h_conv4 = tf.nn.relu(conv2d(h_pool3, W_conv4) + b_conv4)\n",
        "#h_pool4 = max_pool_2x2(h_conv4)\n",
        "#h_pool4"
      ],
      "execution_count": 0,
      "outputs": []
    },
    {
      "metadata": {
        "id": "5X1HAggB_imd",
        "colab_type": "code",
        "colab": {
          "autoexec": {
            "startup": false,
            "wait_interval": 0
          }
        }
      },
      "cell_type": "code",
      "source": [
        "W_conv5 = weight_variable([3, 3, 256, 512]) # 5 x 5 kernel, across an \"image\" with 32 channels to 64 channels\n",
        "b_conv5 = bias_variable([512])\n",
        "h_conv5 = tf.nn.relu(conv2d(h_conv4, W_conv5) + b_conv5)\n",
        "#h_pool4 = max_pool_2x2(h_conv4)\n",
        "#h_pool4"
      ],
      "execution_count": 0,
      "outputs": []
    },
    {
      "metadata": {
        "id": "KkzioKCE_kL5",
        "colab_type": "code",
        "colab": {
          "autoexec": {
            "startup": false,
            "wait_interval": 0
          },
          "base_uri": "https://localhost:8080/",
          "height": 35
        },
        "outputId": "fe9fb153-1eaa-45ce-d5a8-5cda164a6998",
        "executionInfo": {
          "status": "ok",
          "timestamp": 1526207982676,
          "user_tz": 420,
          "elapsed": 437,
          "user": {
            "displayName": "Shree Kesava Narayan Prasanna",
            "photoUrl": "//lh5.googleusercontent.com/-H4JILc1aIws/AAAAAAAAAAI/AAAAAAAAB8E/soXBFm0fq8c/s50-c-k-no/photo.jpg",
            "userId": "115175404502111131461"
          }
        }
      },
      "cell_type": "code",
      "source": [
        "W_conv6 = weight_variable([3, 3, 512, 1024]) # 5 x 5 kernel, across an \"image\" with 32 channels to 64 channels\n",
        "b_conv6 = bias_variable([1024])\n",
        "h_conv6 = tf.nn.relu(conv2d(h_conv5, W_conv6) + b_conv6)\n",
        "h_pool4 = max_pool_2x2(h_conv6)\n",
        "h_pool4"
      ],
      "execution_count": 213,
      "outputs": [
        {
          "output_type": "execute_result",
          "data": {
            "text/plain": [
              "<tf.Tensor 'MaxPool_42:0' shape=(?, 7, 7, 1024) dtype=float32>"
            ]
          },
          "metadata": {
            "tags": []
          },
          "execution_count": 213
        }
      ]
    },
    {
      "metadata": {
        "id": "cQZIA42QgLeJ",
        "colab_type": "code",
        "colab": {
          "autoexec": {
            "startup": false,
            "wait_interval": 0
          }
        }
      },
      "cell_type": "code",
      "source": [
        "W_fc1 = weight_variable([7 * 7 * 1024, 1024]) # This shape can be determined by plugging in something random * 64, and seing the resulting error. \n",
        "b_fc1 = bias_variable([1024])\n",
        "h_pool4_flat = tf.reshape(h_pool4, [-1, 7 * 7 * 1024])\n",
        "h_fc1 = tf.nn.relu(tf.matmul(h_pool4_flat, W_fc1) + b_fc1)\n",
        "keep_prob = tf.placeholder(tf.float32)\n",
        "h_fc1_drop = tf.nn.dropout(h_fc1, keep_prob)"
      ],
      "execution_count": 0,
      "outputs": []
    },
    {
      "metadata": {
        "id": "VMbfJauvgO7J",
        "colab_type": "code",
        "colab": {
          "autoexec": {
            "startup": false,
            "wait_interval": 0
          }
        }
      },
      "cell_type": "code",
      "source": [
        "W_fc2 = weight_variable([1024, 256])\n",
        "b_fc2 = bias_variable([256])\n",
        "h_fc2 = tf.nn.relu(tf.matmul(h_fc1_drop, W_fc2) + b_fc2)\n",
        "h_fc2_drop = tf.nn.dropout(h_fc2, keep_prob)"
      ],
      "execution_count": 0,
      "outputs": []
    },
    {
      "metadata": {
        "id": "9vPK0E6ZhPtC",
        "colab_type": "code",
        "colab": {
          "autoexec": {
            "startup": false,
            "wait_interval": 0
          }
        }
      },
      "cell_type": "code",
      "source": [
        "W_fc3 = weight_variable([256, 10])\n",
        "b_fc3 = bias_variable([10])\n",
        "y_out = tf.matmul(h_fc2_drop, W_fc3) + b_fc3"
      ],
      "execution_count": 0,
      "outputs": []
    },
    {
      "metadata": {
        "id": "lHNTkLRIhTi_",
        "colab_type": "code",
        "colab": {
          "autoexec": {
            "startup": false,
            "wait_interval": 0
          }
        }
      },
      "cell_type": "code",
      "source": [
        "cross_entropy = tf.nn.softmax_cross_entropy_with_logits_v2(logits = y_out, labels = y_)\n",
        "train_step = tf.train.AdamOptimizer(lr).minimize(cross_entropy)\n",
        "correct_prediction = tf.equal(tf.argmax(y_, axis = 1), tf.argmax(y_out, axis = 1))\n",
        "accuracy = tf.reduce_mean(tf.cast(correct_prediction, tf.float32))\n",
        "\n",
        "init = tf.global_variables_initializer()"
      ],
      "execution_count": 0,
      "outputs": []
    },
    {
      "metadata": {
        "id": "Q0CvtgnVicz3",
        "colab_type": "code",
        "colab": {
          "autoexec": {
            "startup": false,
            "wait_interval": 0
          },
          "base_uri": "https://localhost:8080/",
          "height": 503
        },
        "outputId": "a9e5ef68-6f29-4b7f-b57b-342f733aeef9"
      },
      "cell_type": "code",
      "source": [
        "with tf.Session() as sess:\n",
        "  sess.run(init)\n",
        "  for i in range(n_epochs):\n",
        "    training_inputs, training_labels = get_batch_and_labels(minibatch_size)\n",
        "    if i % 100 == 0:\n",
        "      print(\"epoch:{}\".format(i))\n",
        "      #print(img_ctrs)\n",
        "      #print(training_labels)\n",
        "      train_acc = accuracy.eval(feed_dict = {x: training_inputs, y_: training_labels, keep_prob : 1.0})\n",
        "      print(\"training accuracy: {}\".format(train_acc))\n",
        "    sess.run([train_step], feed_dict = {x: training_inputs, y_: training_labels, keep_prob : keep})\n",
        "  test_inputs, test_labels = get_test_batch_and_labels();\n",
        "  test_acc = accuracy.eval(feed_dict = {x: test_inputs, y_: test_labels, keep_prob : 1.0})\n",
        "  print(\"test accuracy: {}\".format(test_acc))"
      ],
      "execution_count": 0,
      "outputs": [
        {
          "output_type": "stream",
          "text": [
            "epoch:0\n",
            "training accuracy: 0.10000000149011612\n",
            "epoch:100\n",
            "training accuracy: 0.10000000149011612\n",
            "epoch:200\n",
            "training accuracy: 0.20000000298023224\n",
            "epoch:300\n",
            "training accuracy: 0.0\n",
            "epoch:400\n",
            "training accuracy: 0.20000000298023224\n",
            "epoch:500\n",
            "training accuracy: 0.10000000149011612\n",
            "epoch:600\n",
            "training accuracy: 0.0\n",
            "epoch:700\n",
            "training accuracy: 0.10000000149011612\n",
            "epoch:800\n",
            "training accuracy: 0.30000001192092896\n",
            "epoch:900\n",
            "training accuracy: 0.30000001192092896\n",
            "epoch:1000\n",
            "training accuracy: 0.10000000149011612\n",
            "epoch:1100\n",
            "training accuracy: 0.10000000149011612\n",
            "epoch:1200\n",
            "training accuracy: 0.30000001192092896\n",
            "epoch:1300\n",
            "training accuracy: 0.20000000298023224\n"
          ],
          "name": "stdout"
        }
      ]
    },
    {
      "metadata": {
        "id": "M57ClICbmBT7",
        "colab_type": "code",
        "colab": {
          "autoexec": {
            "startup": false,
            "wait_interval": 0
          }
        }
      },
      "cell_type": "code",
      "source": [
        ""
      ],
      "execution_count": 0,
      "outputs": []
    }
  ]
}