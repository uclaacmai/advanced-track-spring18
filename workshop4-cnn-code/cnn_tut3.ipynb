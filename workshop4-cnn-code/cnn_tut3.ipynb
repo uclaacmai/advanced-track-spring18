{
  "nbformat": 4,
  "nbformat_minor": 0,
  "metadata": {
    "colab": {
      "name": "cnn_tut3.ipynb",
      "version": "0.3.2",
      "views": {},
      "default_view": {},
      "provenance": [],
      "collapsed_sections": []
    },
    "kernelspec": {
      "name": "python3",
      "display_name": "Python 3"
    },
    "accelerator": "GPU"
  },
  "cells": [
    {
      "metadata": {
        "id": "THfCUuZSofOV",
        "colab_type": "code",
        "colab": {
          "autoexec": {
            "startup": false,
            "wait_interval": 0
          }
        }
      },
      "cell_type": "code",
      "source": [
        "!pip install -U -q PyDrive\n",
        "import os\n",
        "from pydrive.auth import GoogleAuth\n",
        "from pydrive.drive import GoogleDrive\n",
        "from google.colab import auth\n",
        "from oauth2client.client import GoogleCredentials\n",
        "\n",
        "# 1. Authenticate and create the PyDrive client.\n",
        "auth.authenticate_user()\n",
        "gauth = GoogleAuth()\n",
        "gauth.credentials = GoogleCredentials.get_application_default()\n",
        "drive = GoogleDrive(gauth)\n",
        "\n",
        "# choose a local (colab) directory to store the data.\n",
        "local_download_path = os.path.expanduser('~/hotdog_data')\n",
        "try:\n",
        "  os.makedirs(local_download_path)\n",
        "except: pass\n",
        "\n",
        "file_id = '13AJmziPNl8beOmkMYQ1ilc2SNPnPJZi3'\n",
        "\n",
        "# 2. Auto-iterate using the query syntax\n",
        "#    https://developers.google.com/drive/v2/web/search-parameters\n",
        "#file_lists = [drive.ListFile({'q': \"{} in parents\".format('{}'.format(oneid))}).GetList() for oneid in ids]\n",
        "\n",
        "file_lists = []\n",
        "file_list = drive.ListFile({'q': \"'{}' in parents\".format(file_id)}).GetList()\n",
        "for f in file_list:\n",
        "  # 3. Create & download by id.\n",
        "  print('title: %s, id: %s' % (f['title'], f['id']))\n",
        "  fname = os.path.join(local_download_path, f['title'])\n",
        "  print('downloading to {}'.format(fname))\n",
        "  f_ = drive.CreateFile({'id': f['id']})\n",
        "  f_.GetContentFile(fname)\n",
        "\n",
        "\n",
        "#with open(fname, 'r') as f:\n",
        "#  print(f.read())"
      ],
      "execution_count": 0,
      "outputs": []
    },
    {
      "metadata": {
        "id": "WrDlzm8grTiJ",
        "colab_type": "code",
        "colab": {
          "autoexec": {
            "startup": false,
            "wait_interval": 0
          }
        }
      },
      "cell_type": "code",
      "source": [
        "from matplotlib import pyplot as plt\n",
        "import numpy as np\n",
        "from skimage import io\n",
        "from skimage.transform import rescale, resize, downscale_local_mean\n",
        "import glob\n",
        "import random\n",
        "import tensorflow as tf\n",
        "import zipfile"
      ],
      "execution_count": 0,
      "outputs": []
    },
    {
      "metadata": {
        "id": "sQmo8MUWsich",
        "colab_type": "code",
        "colab": {
          "autoexec": {
            "startup": false,
            "wait_interval": 0
          },
          "base_uri": "https://localhost:8080/",
          "height": 35
        },
        "outputId": "0788d6a4-f016-428f-96fb-96eb32d12f96",
        "executionInfo": {
          "status": "ok",
          "timestamp": 1526527270587,
          "user_tz": 420,
          "elapsed": 908,
          "user": {
            "displayName": "Shree Kesava Narayan Prasanna",
            "photoUrl": "//lh5.googleusercontent.com/-H4JILc1aIws/AAAAAAAAAAI/AAAAAAAAB8E/soXBFm0fq8c/s50-c-k-no/photo.jpg",
            "userId": "115175404502111131461"
          }
        }
      },
      "cell_type": "code",
      "source": [
        "os.path.expanduser('~/hotdog_data')\n",
        "zip_path = '{}/hot-dog-not-hot-dog.zip'.format(local_download_path)\n",
        "zip_path\n",
        "os.listdir(local_download_path)\n",
        "zip_path"
      ],
      "execution_count": 3,
      "outputs": [
        {
          "output_type": "execute_result",
          "data": {
            "text/plain": [
              "'/content/hotdog_data/hot-dog-not-hot-dog.zip'"
            ]
          },
          "metadata": {
            "tags": []
          },
          "execution_count": 3
        }
      ]
    },
    {
      "metadata": {
        "id": "kbF4NvjRtMVr",
        "colab_type": "code",
        "colab": {
          "autoexec": {
            "startup": false,
            "wait_interval": 0
          }
        }
      },
      "cell_type": "code",
      "source": [
        "zip_ref = zipfile.ZipFile('{}/hot-dog-not-hot-dog.zip'.format(local_download_path), 'r')\n",
        "zip_ref.extractall(local_download_path)\n",
        "zip_ref.close()\n",
        "zip_ref = zipfile.ZipFile('{}/seefood.zip'.format(local_download_path), 'r')\n",
        "zip_ref.extractall(local_download_path)\n",
        "zip_ref.close()"
      ],
      "execution_count": 0,
      "outputs": []
    },
    {
      "metadata": {
        "id": "ABgGGq3JMahh",
        "colab_type": "code",
        "colab": {
          "autoexec": {
            "startup": false,
            "wait_interval": 0
          },
          "base_uri": "https://localhost:8080/",
          "height": 35
        },
        "outputId": "1add42f3-97da-4f7e-fd83-e48d007e72df",
        "executionInfo": {
          "status": "ok",
          "timestamp": 1526515246200,
          "user_tz": 420,
          "elapsed": 321,
          "user": {
            "displayName": "Shree Kesava Narayan Prasanna",
            "photoUrl": "//lh5.googleusercontent.com/-H4JILc1aIws/AAAAAAAAAAI/AAAAAAAAB8E/soXBFm0fq8c/s50-c-k-no/photo.jpg",
            "userId": "115175404502111131461"
          }
        }
      },
      "cell_type": "code",
      "source": [
        "os.listdir('{}/test'.format(local_download_path))"
      ],
      "execution_count": 5,
      "outputs": [
        {
          "output_type": "execute_result",
          "data": {
            "text/plain": [
              "['hot_dog', 'not_hot_dog']"
            ]
          },
          "metadata": {
            "tags": []
          },
          "execution_count": 5
        }
      ]
    },
    {
      "metadata": {
        "id": "owwvjbBDHZ9C",
        "colab_type": "code",
        "colab": {
          "autoexec": {
            "startup": false,
            "wait_interval": 0
          }
        }
      },
      "cell_type": "code",
      "source": [
        "test_image_paths = [glob.glob('{}/test/hot_dog/*'.format(local_download_path)) , glob.glob('{}/test/not_hot_dog/*'.format(local_download_path))]\n",
        "train_image_paths = [glob.glob('{}/train/hot_dog/*'.format(local_download_path)) , glob.glob('{}/train/not_hot_dog/*'.format(local_download_path))]\n",
        "for i in range(201):\n",
        "  train_image_paths[0].append(test_image_paths[0][i])\n",
        "  train_image_paths[1].append(test_image_paths[1][i])"
      ],
      "execution_count": 0,
      "outputs": []
    },
    {
      "metadata": {
        "id": "2EBPfmElQ1Ce",
        "colab_type": "code",
        "colab": {
          "autoexec": {
            "startup": false,
            "wait_interval": 0
          },
          "base_uri": "https://localhost:8080/",
          "height": 35
        },
        "outputId": "44e813b6-9c6c-47df-af2e-439bb819b305",
        "executionInfo": {
          "status": "ok",
          "timestamp": 1526527295678,
          "user_tz": 420,
          "elapsed": 329,
          "user": {
            "displayName": "Shree Kesava Narayan Prasanna",
            "photoUrl": "//lh5.googleusercontent.com/-H4JILc1aIws/AAAAAAAAAAI/AAAAAAAAB8E/soXBFm0fq8c/s50-c-k-no/photo.jpg",
            "userId": "115175404502111131461"
          }
        }
      },
      "cell_type": "code",
      "source": [
        "len(test_image_paths[0])"
      ],
      "execution_count": 6,
      "outputs": [
        {
          "output_type": "execute_result",
          "data": {
            "text/plain": [
              "250"
            ]
          },
          "metadata": {
            "tags": []
          },
          "execution_count": 6
        }
      ]
    },
    {
      "metadata": {
        "id": "vjVbkTvZNFfX",
        "colab_type": "code",
        "colab": {
          "autoexec": {
            "startup": false,
            "wait_interval": 0
          },
          "base_uri": "https://localhost:8080/",
          "height": 52
        },
        "outputId": "4d48d2d3-6bd4-4eac-93cb-d2c7bb0920a0",
        "executionInfo": {
          "status": "ok",
          "timestamp": 1526527307856,
          "user_tz": 420,
          "elapsed": 403,
          "user": {
            "displayName": "Shree Kesava Narayan Prasanna",
            "photoUrl": "//lh5.googleusercontent.com/-H4JILc1aIws/AAAAAAAAAAI/AAAAAAAAB8E/soXBFm0fq8c/s50-c-k-no/photo.jpg",
            "userId": "115175404502111131461"
          }
        }
      },
      "cell_type": "code",
      "source": [
        "#img_ctrs keeps track of the images used from each digit set\n",
        "#every time a batch is gotten, a random integer 'ind' is seleced b/w 0 and 9 (to select the digit)\n",
        "#img_ctrs[ind] is the position of the image in 'ind' digit set that is added to the batch\n",
        "#img_ctrs[ind] is then incremented\n",
        "\n",
        "img_ctrs = [0 for i in range(2)]\n",
        "max_imgs_per_type = 450\n",
        "my_batch_size = 50\n",
        "\n",
        "#the 10 labels \n",
        "one_hot_vectors = [[(lambda i,j: int(i == j))(i,j)  for i in range(2)] for j in range(2)]\n",
        "one_hot_vectors = np.array(one_hot_vectors)\n",
        "one_hot_vectors"
      ],
      "execution_count": 7,
      "outputs": [
        {
          "output_type": "execute_result",
          "data": {
            "text/plain": [
              "array([[1, 0],\n",
              "       [0, 1]])"
            ]
          },
          "metadata": {
            "tags": []
          },
          "execution_count": 7
        }
      ]
    },
    {
      "metadata": {
        "id": "afnOylraQXvU",
        "colab_type": "code",
        "colab": {
          "autoexec": {
            "startup": false,
            "wait_interval": 0
          }
        }
      },
      "cell_type": "code",
      "source": [
        "def get_image(path):\n",
        "  pic = io.imread(path)\n",
        "  return resize(pic,(64,64))\n",
        "\n",
        "def get_images(paths, img_ctrs, max_imgs_per_type):\n",
        "  batch1 = []\n",
        "  labels1 = []\n",
        "  \n",
        "  max_ind = max_imgs_per_type + img_ctrs[0]\n",
        "  for i in range(2 * max_imgs_per_type):\n",
        "    ind = random.randint(0,1)\n",
        "    if(img_ctrs[ind] >= max_ind):\n",
        "      ind = int(not ind)    \n",
        "    image = get_image(paths[ind][img_ctrs[ind]])      \n",
        "    img_ctrs[ind] += 1\n",
        "    batch1.append(image)\n",
        "    labels1.append(one_hot_vectors[ind])\n",
        "  return np.array(batch1),np.array(labels1)\n",
        "  "
      ],
      "execution_count": 0,
      "outputs": []
    },
    {
      "metadata": {
        "id": "kW-dMlCouv-A",
        "colab_type": "code",
        "colab": {
          "autoexec": {
            "startup": false,
            "wait_interval": 0
          },
          "base_uri": "https://localhost:8080/",
          "height": 107
        },
        "outputId": "975df25c-30f2-4122-e228-af6e75743609",
        "executionInfo": {
          "status": "ok",
          "timestamp": 1526527371464,
          "user_tz": 420,
          "elapsed": 11066,
          "user": {
            "displayName": "Shree Kesava Narayan Prasanna",
            "photoUrl": "//lh5.googleusercontent.com/-H4JILc1aIws/AAAAAAAAAAI/AAAAAAAAB8E/soXBFm0fq8c/s50-c-k-no/photo.jpg",
            "userId": "115175404502111131461"
          }
        }
      },
      "cell_type": "code",
      "source": [
        "train_images,train_labels = get_images(train_image_paths, [0,0], 450)\n",
        "print(len(train_images))\n",
        "test_images, test_labels = get_images(test_image_paths, [201,201], 49)\n",
        "len(test_images)"
      ],
      "execution_count": 10,
      "outputs": [
        {
          "output_type": "stream",
          "text": [
            "/usr/local/lib/python3.6/dist-packages/skimage/transform/_warps.py:84: UserWarning: The default mode, 'constant', will be changed to 'reflect' in skimage 0.15.\n",
            "  warn(\"The default mode, 'constant', will be changed to 'reflect' in \"\n"
          ],
          "name": "stderr"
        },
        {
          "output_type": "stream",
          "text": [
            "900\n"
          ],
          "name": "stdout"
        },
        {
          "output_type": "execute_result",
          "data": {
            "text/plain": [
              "98"
            ]
          },
          "metadata": {
            "tags": []
          },
          "execution_count": 10
        }
      ]
    },
    {
      "metadata": {
        "id": "gThM-mAwHCKF",
        "colab_type": "code",
        "colab": {
          "autoexec": {
            "startup": false,
            "wait_interval": 0
          },
          "base_uri": "https://localhost:8080/",
          "height": 473
        },
        "outputId": "dc034ee0-e612-45ac-9f01-237bfc0cdeba",
        "executionInfo": {
          "status": "ok",
          "timestamp": 1526527376612,
          "user_tz": 420,
          "elapsed": 783,
          "user": {
            "displayName": "Shree Kesava Narayan Prasanna",
            "photoUrl": "//lh5.googleusercontent.com/-H4JILc1aIws/AAAAAAAAAAI/AAAAAAAAB8E/soXBFm0fq8c/s50-c-k-no/photo.jpg",
            "userId": "115175404502111131461"
          }
        }
      },
      "cell_type": "code",
      "source": [
        "io.imshow(train_images[40])\n",
        "print(train_labels[40])"
      ],
      "execution_count": 11,
      "outputs": [
        {
          "output_type": "stream",
          "text": [
            "/usr/local/lib/python3.6/dist-packages/skimage/io/_plugins/matplotlib_plugin.py:51: FutureWarning: Conversion of the second argument of issubdtype from `float` to `np.floating` is deprecated. In future, it will be treated as `np.float64 == np.dtype(float).type`.\n",
            "  out_of_range_float = (np.issubdtype(image.dtype, np.float) and\n"
          ],
          "name": "stderr"
        },
        {
          "output_type": "stream",
          "text": [
            "[0 1]\n"
          ],
          "name": "stdout"
        },
        {
          "output_type": "display_data",
          "data": {
            "image/png": "[encoded data removed]",
            "text/plain": [
              "<matplotlib.figure.Figure at 0x7f1b7a0cf7f0>"
            ]
          },
          "metadata": {
            "tags": []
          }
        }
      ]
    },
    {
      "metadata": {
        "id": "Qwccpit5VOqx",
        "colab_type": "code",
        "colab": {
          "autoexec": {
            "startup": false,
            "wait_interval": 0
          }
        }
      },
      "cell_type": "code",
      "source": [
        "\n",
        "def get_batch_and_labels(batch_size, i):\n",
        "  batch = []\n",
        "  labels = []\n",
        "  \n",
        "  if i + batch_size >= len(train_images):\n",
        "    batch = train_images[i:]\n",
        "    labels = train_labels[i:]\n",
        "    batch = np.concatenate((batch,train_images[:batch_size + i - len(train_images)]))\n",
        "    labels = np.concatenate((labels, train_labels[:batch_size + i - len(train_labels)]))\n",
        "  else:\n",
        "    batch = train_images[i:i + batch_size]\n",
        "    labels = train_labels[i:i + batch_size]\n",
        "  return np.array(batch), np.array(labels)\n"
      ],
      "execution_count": 0,
      "outputs": []
    },
    {
      "metadata": {
        "id": "vjflaP-fYFIh",
        "colab_type": "code",
        "colab": {
          "autoexec": {
            "startup": false,
            "wait_interval": 0
          },
          "base_uri": "https://localhost:8080/",
          "height": 384
        },
        "outputId": "0b99e245-8f12-43f4-e923-1fe4adf6d1cd",
        "executionInfo": {
          "status": "ok",
          "timestamp": 1526527390494,
          "user_tz": 420,
          "elapsed": 750,
          "user": {
            "displayName": "Shree Kesava Narayan Prasanna",
            "photoUrl": "//lh5.googleusercontent.com/-H4JILc1aIws/AAAAAAAAAAI/AAAAAAAAB8E/soXBFm0fq8c/s50-c-k-no/photo.jpg",
            "userId": "115175404502111131461"
          }
        }
      },
      "cell_type": "code",
      "source": [
        "t_batch, t_labels = get_batch_and_labels(100,850)\n",
        "print(t_batch.shape)\n",
        "plt.imshow(t_batch[65])\n",
        "t_labels[65]"
      ],
      "execution_count": 13,
      "outputs": [
        {
          "output_type": "stream",
          "text": [
            "(100, 64, 64, 3)\n"
          ],
          "name": "stdout"
        },
        {
          "output_type": "execute_result",
          "data": {
            "text/plain": [
              "array([0, 1])"
            ]
          },
          "metadata": {
            "tags": []
          },
          "execution_count": 13
        },
        {
          "output_type": "display_data",
          "data": {
            "image/png": "[encoded data removed]",
            "text/plain": [
              "<matplotlib.figure.Figure at 0x7f1b77ed9a90>"
            ]
          },
          "metadata": {
            "tags": []
          }
        }
      ]
    },
    {
      "metadata": {
        "id": "EZqbm8aFv_XA",
        "colab_type": "code",
        "colab": {
          "autoexec": {
            "startup": false,
            "wait_interval": 0
          }
        }
      },
      "cell_type": "code",
      "source": [
        "n_epochs = 400\n",
        "minibatch_size = 40\n",
        "lr = 1e-4\n",
        "keep = 0.5"
      ],
      "execution_count": 0,
      "outputs": []
    },
    {
      "metadata": {
        "id": "r4F7uKn9eZEX",
        "colab_type": "code",
        "colab": {
          "autoexec": {
            "startup": false,
            "wait_interval": 0
          }
        }
      },
      "cell_type": "code",
      "source": [
        "x = tf.placeholder(tf.float32, shape = [None, 64,64 , 3])\n",
        "\n",
        "y_ = tf.placeholder(tf.float32, shape = [None, 2])"
      ],
      "execution_count": 0,
      "outputs": []
    },
    {
      "metadata": {
        "id": "wpNQK2xdfDKP",
        "colab_type": "code",
        "colab": {
          "autoexec": {
            "startup": false,
            "wait_interval": 0
          }
        }
      },
      "cell_type": "code",
      "source": [
        "def weight_variable(shape):\n",
        "    \"\"\"Initializes weights randomly from a normal distribution\n",
        "    Params: shape: list of dimensionality of the tensor to be initialized\n",
        "    \"\"\"\n",
        "    initial = tf.truncated_normal(shape, stddev=0.1)\n",
        "    return tf.Variable(initial)\n",
        "\n",
        "def bias_variable(shape):\n",
        "    \"\"\"Initializes the bias term randomly from a normal distribution.\n",
        "    Params: shape: list of dimensionality for the bias term.\n",
        "    \"\"\"\n",
        "    initial = tf.constant(0.1, shape=shape)\n",
        "    return tf.Variable(initial)\n",
        "\n",
        "def conv2d(x, W):\n",
        "    \"\"\"Performs a convolution over a given patch x with some filter W.\n",
        "    Uses a stride of length 1 and SAME padding (padded with zeros at the edges)\n",
        "    Params:\n",
        "    x: tensor: the image to be convolved over\n",
        "    W: the kernel (tensor) with which to convolve.\n",
        "    \"\"\"\n",
        "    return tf.nn.conv2d(x, W, strides=[1, 1, 1, 1], padding='SAME')\n",
        "# strides is a length-4 list that specifies the amount to move for each dimension of our input x. \n",
        "# the dimensions correspond to the following (in order): batch_size, length of image, width of image, # of channels in image\n",
        "\n",
        "def max_pool_2x2(x):\n",
        "    \"\"\"Performs a max pooling operation over a 2 x 2 region\"\"\"\n",
        "    # ksize: we only want to take the maximum over 1 example and 1 channel. \n",
        "    # the middle elements are 2 x 2 because we want to take maxima over 2 x 2 regions\n",
        "    \n",
        "    return tf.nn.max_pool(x, ksize=[1, 2, 2, 1],\n",
        "                        strides=[1, 2, 2, 1], padding='SAME') # stride 2 right and 2 down"
      ],
      "execution_count": 0,
      "outputs": []
    },
    {
      "metadata": {
        "id": "wP2dAoxDfKMb",
        "colab_type": "code",
        "colab": {
          "autoexec": {
            "startup": false,
            "wait_interval": 0
          },
          "base_uri": "https://localhost:8080/",
          "height": 35
        },
        "outputId": "c77bc9f7-f120-4114-8d44-a901ddfca6a8",
        "executionInfo": {
          "status": "ok",
          "timestamp": 1526527501602,
          "user_tz": 420,
          "elapsed": 335,
          "user": {
            "displayName": "Shree Kesava Narayan Prasanna",
            "photoUrl": "//lh5.googleusercontent.com/-H4JILc1aIws/AAAAAAAAAAI/AAAAAAAAB8E/soXBFm0fq8c/s50-c-k-no/photo.jpg",
            "userId": "115175404502111131461"
          }
        }
      },
      "cell_type": "code",
      "source": [
        "W_conv1 = weight_variable([3, 3, 3, 16]) # 3 x 3 kernel, across an image with 3 channels to 16 channels\n",
        "b_conv1 = bias_variable([16])\n",
        "h_conv1 = tf.nn.relu(tf.nn.conv2d(x, W_conv1, strides=[1, 1, 1, 1], padding='SAME') + b_conv1)\n",
        "h_pool1 = tf.nn.max_pool(h_conv1, ksize=[1, 2, 2, 1],strides=[1, 2, 2, 1], padding='SAME')\n",
        "h_pool1\n",
        "#h_conv1"
      ],
      "execution_count": 17,
      "outputs": [
        {
          "output_type": "execute_result",
          "data": {
            "text/plain": [
              "<tf.Tensor 'MaxPool:0' shape=(?, 32, 32, 16) dtype=float32>"
            ]
          },
          "metadata": {
            "tags": []
          },
          "execution_count": 17
        }
      ]
    },
    {
      "metadata": {
        "id": "C2RJEwTXfsKZ",
        "colab_type": "code",
        "colab": {
          "autoexec": {
            "startup": false,
            "wait_interval": 0
          },
          "base_uri": "https://localhost:8080/",
          "height": 35
        },
        "outputId": "4510aaeb-473c-448e-fccb-0de030a46181",
        "executionInfo": {
          "status": "ok",
          "timestamp": 1526527512778,
          "user_tz": 420,
          "elapsed": 366,
          "user": {
            "displayName": "Shree Kesava Narayan Prasanna",
            "photoUrl": "//lh5.googleusercontent.com/-H4JILc1aIws/AAAAAAAAAAI/AAAAAAAAB8E/soXBFm0fq8c/s50-c-k-no/photo.jpg",
            "userId": "115175404502111131461"
          }
        }
      },
      "cell_type": "code",
      "source": [
        "W_conv2 = weight_variable([3, 3, 16, 32])\n",
        "b_conv2 = bias_variable([32])\n",
        "h_conv2 = tf.nn.relu(tf.nn.conv2d(h_pool1, W_conv2, strides=[1, 1, 1, 1], padding='SAME') + b_conv2)\n",
        "h_pool2 = tf.nn.max_pool(h_conv2, ksize=[1, 2, 2, 1],strides=[1, 2, 2, 1], padding='SAME')\n",
        "h_pool2"
      ],
      "execution_count": 18,
      "outputs": [
        {
          "output_type": "execute_result",
          "data": {
            "text/plain": [
              "<tf.Tensor 'MaxPool_1:0' shape=(?, 16, 16, 32) dtype=float32>"
            ]
          },
          "metadata": {
            "tags": []
          },
          "execution_count": 18
        }
      ]
    },
    {
      "metadata": {
        "id": "Q-52M5vdhYEe",
        "colab_type": "code",
        "colab": {
          "autoexec": {
            "startup": false,
            "wait_interval": 0
          },
          "base_uri": "https://localhost:8080/",
          "height": 35
        },
        "outputId": "37af7c97-678f-42f2-97d6-5fd0432441de",
        "executionInfo": {
          "status": "ok",
          "timestamp": 1526527541179,
          "user_tz": 420,
          "elapsed": 413,
          "user": {
            "displayName": "Shree Kesava Narayan Prasanna",
            "photoUrl": "//lh5.googleusercontent.com/-H4JILc1aIws/AAAAAAAAAAI/AAAAAAAAB8E/soXBFm0fq8c/s50-c-k-no/photo.jpg",
            "userId": "115175404502111131461"
          }
        }
      },
      "cell_type": "code",
      "source": [
        "W_conv3 = weight_variable([3, 3, 32, 64]) \n",
        "b_conv3 = bias_variable([64])\n",
        "h_conv3 = tf.nn.relu(tf.nn.conv2d(h_pool2, W_conv3, strides=[1, 1, 1, 1], padding='SAME') + b_conv3)\n",
        "h_pool3 = tf.nn.max_pool(h_conv3, ksize=[1, 2,2, 1],strides=[1, 2, 2, 1], padding='SAME')\n",
        "h_pool3\n",
        "#h_conv3"
      ],
      "execution_count": 20,
      "outputs": [
        {
          "output_type": "execute_result",
          "data": {
            "text/plain": [
              "<tf.Tensor 'MaxPool_3:0' shape=(?, 8, 8, 64) dtype=float32>"
            ]
          },
          "metadata": {
            "tags": []
          },
          "execution_count": 20
        }
      ]
    },
    {
      "metadata": {
        "id": "2XN8h2HQudte",
        "colab_type": "code",
        "colab": {
          "autoexec": {
            "startup": false,
            "wait_interval": 0
          },
          "base_uri": "https://localhost:8080/",
          "height": 35
        },
        "outputId": "c618f576-de2d-454c-fee4-430a66973a05",
        "executionInfo": {
          "status": "ok",
          "timestamp": 1526527545724,
          "user_tz": 420,
          "elapsed": 306,
          "user": {
            "displayName": "Shree Kesava Narayan Prasanna",
            "photoUrl": "//lh5.googleusercontent.com/-H4JILc1aIws/AAAAAAAAAAI/AAAAAAAAB8E/soXBFm0fq8c/s50-c-k-no/photo.jpg",
            "userId": "115175404502111131461"
          }
        }
      },
      "cell_type": "code",
      "source": [
        "W_conv4 = weight_variable([3, 3, 64, 64]) \n",
        "b_conv4 = bias_variable([64])\n",
        "h_conv4 = tf.nn.relu(tf.nn.conv2d(h_pool3, W_conv4, strides=[1, 1, 1, 1], padding='SAME') + b_conv4)\n",
        "h_pool4 = tf.nn.max_pool(h_conv4, ksize=[1, 2, 2, 1],strides=[1, 2, 2, 1], padding='SAME')\n",
        "h_pool4"
      ],
      "execution_count": 21,
      "outputs": [
        {
          "output_type": "execute_result",
          "data": {
            "text/plain": [
              "<tf.Tensor 'MaxPool_4:0' shape=(?, 4, 4, 64) dtype=float32>"
            ]
          },
          "metadata": {
            "tags": []
          },
          "execution_count": 21
        }
      ]
    },
    {
      "metadata": {
        "id": "Fxp66enz8E09",
        "colab_type": "code",
        "colab": {
          "autoexec": {
            "startup": false,
            "wait_interval": 0
          },
          "base_uri": "https://localhost:8080/",
          "height": 35
        },
        "outputId": "a6beec23-3034-458b-ad45-b4be9b983e3d",
        "executionInfo": {
          "status": "ok",
          "timestamp": 1526382404565,
          "user_tz": 420,
          "elapsed": 261,
          "user": {
            "displayName": "Shree Kesava Narayan Prasanna",
            "photoUrl": "//lh5.googleusercontent.com/-H4JILc1aIws/AAAAAAAAAAI/AAAAAAAAB8E/soXBFm0fq8c/s50-c-k-no/photo.jpg",
            "userId": "115175404502111131461"
          }
        }
      },
      "cell_type": "code",
      "source": [
        "W_conv5 = weight_variable([3, 3, 64, 64]) \n",
        "b_conv5 = bias_variable([64])\n",
        "h_conv5 = tf.nn.relu(tf.nn.conv2d(h_pool4, W_conv5, strides=[1, 1, 1, 1], padding='SAME') + b_conv5)\n",
        "#h_pool5 = tf.nn.max_pool(h_conv5, ksize=[1, 2, 2, 1],strides=[1, 2, 2, 1], padding='SAME')\n",
        "#h_pool5\n",
        "h_conv5"
      ],
      "execution_count": 0,
      "outputs": [
        {
          "output_type": "execute_result",
          "data": {
            "text/plain": [
              "<tf.Tensor 'Relu_54:0' shape=(?, 32, 32, 64) dtype=float32>"
            ]
          },
          "metadata": {
            "tags": []
          },
          "execution_count": 192
        }
      ]
    },
    {
      "metadata": {
        "id": "5X1HAggB_imd",
        "colab_type": "code",
        "colab": {
          "autoexec": {
            "startup": false,
            "wait_interval": 0
          },
          "base_uri": "https://localhost:8080/",
          "height": 35
        },
        "outputId": "45db9ddb-f82e-41ca-c109-22ff37409a26",
        "executionInfo": {
          "status": "ok",
          "timestamp": 1526382406343,
          "user_tz": 420,
          "elapsed": 464,
          "user": {
            "displayName": "Shree Kesava Narayan Prasanna",
            "photoUrl": "//lh5.googleusercontent.com/-H4JILc1aIws/AAAAAAAAAAI/AAAAAAAAB8E/soXBFm0fq8c/s50-c-k-no/photo.jpg",
            "userId": "115175404502111131461"
          }
        }
      },
      "cell_type": "code",
      "source": [
        "W_conv6 = weight_variable([3, 3, 64, 128])\n",
        "b_conv6 = bias_variable([128])\n",
        "h_conv6 = tf.nn.relu(tf.nn.conv2d(h_conv5, W_conv6, strides=[1, 1, 1, 1], padding='SAME') + b_conv6)\n",
        "h_pool6 = tf.nn.max_pool(h_conv6, ksize=[1, 2, 2, 1],strides=[1, 2, 2, 1], padding='SAME')\n",
        "h_pool6"
      ],
      "execution_count": 0,
      "outputs": [
        {
          "output_type": "execute_result",
          "data": {
            "text/plain": [
              "<tf.Tensor 'MaxPool_26:0' shape=(?, 16, 16, 128) dtype=float32>"
            ]
          },
          "metadata": {
            "tags": []
          },
          "execution_count": 193
        }
      ]
    },
    {
      "metadata": {
        "id": "KkzioKCE_kL5",
        "colab_type": "code",
        "colab": {
          "autoexec": {
            "startup": false,
            "wait_interval": 0
          },
          "base_uri": "https://localhost:8080/",
          "height": 35
        },
        "outputId": "950b7c29-d4eb-48b3-a0f1-1c45a18b78a8",
        "executionInfo": {
          "status": "ok",
          "timestamp": 1526382407910,
          "user_tz": 420,
          "elapsed": 266,
          "user": {
            "displayName": "Shree Kesava Narayan Prasanna",
            "photoUrl": "//lh5.googleusercontent.com/-H4JILc1aIws/AAAAAAAAAAI/AAAAAAAAB8E/soXBFm0fq8c/s50-c-k-no/photo.jpg",
            "userId": "115175404502111131461"
          }
        }
      },
      "cell_type": "code",
      "source": [
        "W_conv7 = weight_variable([3, 3, 128, 128]) \n",
        "b_conv7 = bias_variable([128])\n",
        "h_conv7 = tf.nn.relu(tf.nn.conv2d(h_pool6, W_conv7, strides=[1, 1, 1, 1], padding='SAME') + b_conv7)\n",
        "h_pool7 = tf.nn.max_pool(h_conv7, ksize=[1, 2, 2, 1],strides=[1, 2, 2, 1], padding='SAME')\n",
        "h_pool7"
      ],
      "execution_count": 0,
      "outputs": [
        {
          "output_type": "execute_result",
          "data": {
            "text/plain": [
              "<tf.Tensor 'MaxPool_27:0' shape=(?, 8, 8, 128) dtype=float32>"
            ]
          },
          "metadata": {
            "tags": []
          },
          "execution_count": 194
        }
      ]
    },
    {
      "metadata": {
        "id": "0hkTk3bjjUa6",
        "colab_type": "code",
        "colab": {
          "autoexec": {
            "startup": false,
            "wait_interval": 0
          },
          "base_uri": "https://localhost:8080/",
          "height": 35
        },
        "outputId": "12cbf7e8-e96f-48fe-b934-6d785c8418f6",
        "executionInfo": {
          "status": "ok",
          "timestamp": 1526266556360,
          "user_tz": 420,
          "elapsed": 466,
          "user": {
            "displayName": "Shree Kesava Narayan Prasanna",
            "photoUrl": "//lh5.googleusercontent.com/-H4JILc1aIws/AAAAAAAAAAI/AAAAAAAAB8E/soXBFm0fq8c/s50-c-k-no/photo.jpg",
            "userId": "115175404502111131461"
          }
        }
      },
      "cell_type": "code",
      "source": [
        "W_conv8 = weight_variable([3, 3, 512, 512]) \n",
        "b_conv8 = bias_variable([512])\n",
        "h_conv8 = tf.nn.relu(tf.nn.conv2d(h_pool7, W_conv8, strides=[1, 1, 1, 1], padding='SAME') + b_conv8)\n",
        "h_pool8 = tf.nn.max_pool(h_conv8, ksize=[1, 2, 2, 1],strides=[1, 1, 1, 1], padding='SAME')\n",
        "h_pool8"
      ],
      "execution_count": 0,
      "outputs": [
        {
          "output_type": "execute_result",
          "data": {
            "text/plain": [
              "<tf.Tensor 'MaxPool_76:0' shape=(?, 25, 25, 512) dtype=float32>"
            ]
          },
          "metadata": {
            "tags": []
          },
          "execution_count": 122
        }
      ]
    },
    {
      "metadata": {
        "id": "bSr_XO0jj5cf",
        "colab_type": "code",
        "colab": {
          "autoexec": {
            "startup": false,
            "wait_interval": 0
          },
          "base_uri": "https://localhost:8080/",
          "height": 35
        },
        "outputId": "ea361c9f-289b-49ad-a699-f80f89c350a8",
        "executionInfo": {
          "status": "ok",
          "timestamp": 1526266556929,
          "user_tz": 420,
          "elapsed": 401,
          "user": {
            "displayName": "Shree Kesava Narayan Prasanna",
            "photoUrl": "//lh5.googleusercontent.com/-H4JILc1aIws/AAAAAAAAAAI/AAAAAAAAB8E/soXBFm0fq8c/s50-c-k-no/photo.jpg",
            "userId": "115175404502111131461"
          }
        }
      },
      "cell_type": "code",
      "source": [
        "W_conv9 = weight_variable([3, 3, 512, 1024]) \n",
        "b_conv9 = bias_variable([1024])\n",
        "h_conv9 = tf.nn.relu(tf.nn.conv2d(h_pool8, W_conv9, strides=[1, 2, 2, 1], padding='SAME') + b_conv9)\n",
        "h_pool9 = tf.nn.max_pool(h_conv9, ksize=[1, 2, 2, 1],strides=[1, 2, 2, 1], padding='SAME')\n",
        "h_pool9"
      ],
      "execution_count": 0,
      "outputs": [
        {
          "output_type": "execute_result",
          "data": {
            "text/plain": [
              "<tf.Tensor 'MaxPool_77:0' shape=(?, 7, 7, 1024) dtype=float32>"
            ]
          },
          "metadata": {
            "tags": []
          },
          "execution_count": 123
        }
      ]
    },
    {
      "metadata": {
        "id": "cQZIA42QgLeJ",
        "colab_type": "code",
        "colab": {
          "autoexec": {
            "startup": false,
            "wait_interval": 0
          }
        }
      },
      "cell_type": "code",
      "source": [
        "W_fc1 = weight_variable([4 * 4 * 64, 512]) \n",
        "b_fc1 = bias_variable([512])\n",
        "h_conv_flat = tf.reshape(h_pool4, [-1, 4 * 4 * 64])\n",
        "h_fc1 = tf.nn.relu(tf.matmul(h_conv_flat, W_fc1) + b_fc1)\n",
        "keep_prob = tf.placeholder(tf.float32)\n",
        "h_fc1_drop = tf.nn.dropout(h_fc1, keep_prob)"
      ],
      "execution_count": 0,
      "outputs": []
    },
    {
      "metadata": {
        "id": "VMbfJauvgO7J",
        "colab_type": "code",
        "colab": {
          "autoexec": {
            "startup": false,
            "wait_interval": 0
          }
        }
      },
      "cell_type": "code",
      "source": [
        "W_fc2 = weight_variable([512, 128])\n",
        "b_fc2 = bias_variable([128])\n",
        "h_fc2 = tf.nn.relu(tf.matmul(h_fc1_drop, W_fc2) + b_fc2)\n",
        "h_fc2_drop = tf.nn.dropout(h_fc2, keep_prob)"
      ],
      "execution_count": 0,
      "outputs": []
    },
    {
      "metadata": {
        "id": "9vPK0E6ZhPtC",
        "colab_type": "code",
        "colab": {
          "autoexec": {
            "startup": false,
            "wait_interval": 0
          }
        }
      },
      "cell_type": "code",
      "source": [
        "W_fc3 = weight_variable([128, 2])\n",
        "b_fc3 = bias_variable([2])\n",
        "y_out = tf.matmul(h_fc2_drop, W_fc3) + b_fc3"
      ],
      "execution_count": 0,
      "outputs": []
    },
    {
      "metadata": {
        "id": "lHNTkLRIhTi_",
        "colab_type": "code",
        "colab": {
          "autoexec": {
            "startup": false,
            "wait_interval": 0
          }
        }
      },
      "cell_type": "code",
      "source": [
        "#num_ep_per_dec = 350\n",
        "#decay_steps = int(minibatch_size * num_ep_per_dec)\n",
        "#global_step = tf.train.get_or_create_global_step()\n",
        "\n",
        "#lr = tf.train.exponential_decay(0.1, global_step, decay_steps,0.1, staircase=True)\n",
        "cross_entropy = tf.nn.softmax_cross_entropy_with_logits_v2(logits = y_out, labels = y_)\n",
        "#opt = tf.train.GradientDescentOptimizer(lr)\n",
        "#grads = opt.compute_gradients(cross_entropy)\n",
        "#apply_gradient_op = opt.apply_gradients(grads, global_step=global_step)\n",
        "\n",
        "train_step = tf.train.AdamOptimizer(lr).minimize(cross_entropy)\n",
        "\n",
        "correct_prediction = tf.equal(tf.argmax(y_, axis = 1), tf.argmax(y_out, axis = 1))\n",
        "accuracy = tf.reduce_mean(tf.cast(correct_prediction, tf.float32))\n",
        "\n",
        "init = tf.global_variables_initializer()"
      ],
      "execution_count": 0,
      "outputs": []
    },
    {
      "metadata": {
        "id": "Q0CvtgnVicz3",
        "colab_type": "code",
        "colab": {
          "autoexec": {
            "startup": false,
            "wait_interval": 0
          },
          "base_uri": "https://localhost:8080/",
          "height": 13901
        },
        "outputId": "79188450-f882-4025-c4ad-9bd643c20a03",
        "executionInfo": {
          "status": "ok",
          "timestamp": 1526527699903,
          "user_tz": 420,
          "elapsed": 112109,
          "user": {
            "displayName": "Shree Kesava Narayan Prasanna",
            "photoUrl": "//lh5.googleusercontent.com/-H4JILc1aIws/AAAAAAAAAAI/AAAAAAAAB8E/soXBFm0fq8c/s50-c-k-no/photo.jpg",
            "userId": "115175404502111131461"
          }
        }
      },
      "cell_type": "code",
      "source": [
        " \n",
        "with tf.Session() as sess:\n",
        "  sess.run(init)\n",
        "  for i in range(n_epochs):\n",
        "    training_inputs, training_labels = get_batch_and_labels(minibatch_size, i*minibatch_size)    \n",
        "    if i % 1 == 0:\n",
        "      print(\"epoch:{}\".format(i))\n",
        "      #print(img_ctrs)\n",
        "      #print(training_labels)\n",
        "      train_acc = accuracy.eval(feed_dict = {x: training_inputs, y_: training_labels, keep_prob : 1.0})\n",
        "      print(\"training accuracy: {}\".format(train_acc))\n",
        "    sess.run([train_step], feed_dict = {x: training_inputs, y_: training_labels, keep_prob : keep})\n",
        "  test_acc = accuracy.eval(feed_dict = {x: test_images, y_: test_labels, keep_prob : 1.0})\n",
        "  print(\"test accuracy: {}\".format(test_acc))"
      ],
      "execution_count": 27,
      "outputs": [
        {
          "output_type": "stream",
          "text": [
            "epoch:0\n",
            "training accuracy: 0.5249999761581421\n",
            "epoch:1\n",
            "training accuracy: 0.4000000059604645\n",
            "epoch:2\n",
            "training accuracy: 0.5\n",
            "epoch:3\n",
            "training accuracy: 0.625\n",
            "epoch:4\n",
            "training accuracy: 0.6499999761581421\n",
            "epoch:5\n",
            "training accuracy: 0.44999998807907104\n",
            "epoch:6\n",
            "training accuracy: 0.44999998807907104\n",
            "epoch:7\n",
            "training accuracy: 0.4749999940395355\n",
            "epoch:8\n",
            "training accuracy: 0.375\n",
            "epoch:9\n",
            "training accuracy: 0.42500001192092896\n",
            "epoch:10\n",
            "training accuracy: 0.44999998807907104\n",
            "epoch:11\n",
            "training accuracy: 0.4000000059604645\n",
            "epoch:12\n",
            "training accuracy: 0.5\n",
            "epoch:13\n",
            "training accuracy: 0.42500001192092896\n",
            "epoch:14\n",
            "training accuracy: 0.550000011920929\n",
            "epoch:15\n",
            "training accuracy: 0.6000000238418579\n",
            "epoch:16\n",
            "training accuracy: 0.75\n",
            "epoch:17\n",
            "training accuracy: 0.44999998807907104\n",
            "epoch:18\n",
            "training accuracy: 0.699999988079071\n",
            "epoch:19\n",
            "training accuracy: 0.5\n",
            "epoch:20\n",
            "training accuracy: 0.574999988079071\n",
            "epoch:21\n",
            "training accuracy: 0.4749999940395355\n",
            "epoch:22\n",
            "training accuracy: 0.574999988079071\n",
            "epoch:23\n",
            "training accuracy: 0.6166666746139526\n",
            "epoch:24\n",
            "training accuracy: 0.550000011920929\n",
            "epoch:25\n",
            "training accuracy: 0.5285714268684387\n",
            "epoch:26\n",
            "training accuracy: 0.5055555701255798\n",
            "epoch:27\n",
            "training accuracy: 0.5136363506317139\n",
            "epoch:28\n",
            "training accuracy: 0.4923076927661896\n",
            "epoch:29\n",
            "training accuracy: 0.49666666984558105\n",
            "epoch:30\n",
            "training accuracy: 0.4882352948188782\n",
            "epoch:31\n",
            "training accuracy: 0.4842105209827423\n",
            "epoch:32\n",
            "training accuracy: 0.49761903285980225\n",
            "epoch:33\n",
            "training accuracy: 0.5260869860649109\n",
            "epoch:34\n",
            "training accuracy: 0.5540000200271606\n",
            "epoch:35\n",
            "training accuracy: 0.5796296000480652\n",
            "epoch:36\n",
            "training accuracy: 0.5948275923728943\n",
            "epoch:37\n",
            "training accuracy: 0.6080645322799683\n",
            "epoch:38\n",
            "training accuracy: 0.6151515245437622\n",
            "epoch:39\n",
            "training accuracy: 0.6100000143051147\n",
            "epoch:40\n",
            "training accuracy: 0.5905405282974243\n",
            "epoch:41\n",
            "training accuracy: 0.5910256505012512\n",
            "epoch:42\n",
            "training accuracy: 0.5768292546272278\n",
            "epoch:43\n",
            "training accuracy: 0.5767441987991333\n",
            "epoch:44\n",
            "training accuracy: 0.5711110830307007\n",
            "epoch:45\n",
            "training accuracy: 0.5722222328186035\n",
            "epoch:46\n",
            "training accuracy: 0.5799999833106995\n",
            "epoch:47\n",
            "training accuracy: 0.5855555534362793\n",
            "epoch:48\n",
            "training accuracy: 0.5766666531562805\n",
            "epoch:49\n",
            "training accuracy: 0.5888888835906982\n",
            "epoch:50\n",
            "training accuracy: 0.5944444537162781\n",
            "epoch:51\n",
            "training accuracy: 0.5855555534362793\n",
            "epoch:52\n",
            "training accuracy: 0.5811111330986023\n",
            "epoch:53\n",
            "training accuracy: 0.5833333134651184\n",
            "epoch:54\n",
            "training accuracy: 0.5822222232818604\n",
            "epoch:55\n",
            "training accuracy: 0.5822222232818604\n",
            "epoch:56\n",
            "training accuracy: 0.5899999737739563\n",
            "epoch:57\n",
            "training accuracy: 0.6000000238418579\n",
            "epoch:58\n",
            "training accuracy: 0.6033333539962769\n",
            "epoch:59\n",
            "training accuracy: 0.602222204208374\n",
            "epoch:60\n",
            "training accuracy: 0.6144444346427917\n",
            "epoch:61\n",
            "training accuracy: 0.6155555844306946\n"
          ],
          "name": "stdout"
        },
        {
          "output_type": "stream",
          "text": [
            "epoch:62\n",
            "training accuracy: 0.6177777647972107\n",
            "epoch:63\n",
            "training accuracy: 0.6222222447395325\n",
            "epoch:64\n",
            "training accuracy: 0.6344444155693054\n",
            "epoch:65\n",
            "training accuracy: 0.6377778053283691\n",
            "epoch:66\n",
            "training accuracy: 0.6433333158493042\n",
            "epoch:67\n",
            "training accuracy: 0.644444465637207\n",
            "epoch:68\n",
            "training accuracy: 0.6422222256660461\n",
            "epoch:69\n",
            "training accuracy: 0.6466666460037231\n",
            "epoch:70\n",
            "training accuracy: 0.6455555558204651\n",
            "epoch:71\n",
            "training accuracy: 0.653333306312561\n",
            "epoch:72\n",
            "training accuracy: 0.6600000262260437\n",
            "epoch:73\n",
            "training accuracy: 0.6588888764381409\n",
            "epoch:74\n",
            "training accuracy: 0.6622222065925598\n",
            "epoch:75\n",
            "training accuracy: 0.6600000262260437\n",
            "epoch:76\n",
            "training accuracy: 0.6611111164093018\n",
            "epoch:77\n",
            "training accuracy: 0.6566666960716248\n",
            "epoch:78\n",
            "training accuracy: 0.6577777862548828\n",
            "epoch:79\n",
            "training accuracy: 0.6555555462837219\n",
            "epoch:80\n",
            "training accuracy: 0.652222216129303\n",
            "epoch:81\n",
            "training accuracy: 0.652222216129303\n",
            "epoch:82\n",
            "training accuracy: 0.6566666960716248\n",
            "epoch:83\n",
            "training accuracy: 0.6544444561004639\n",
            "epoch:84\n",
            "training accuracy: 0.6555555462837219\n",
            "epoch:85\n",
            "training accuracy: 0.6544444561004639\n",
            "epoch:86\n",
            "training accuracy: 0.6588888764381409\n",
            "epoch:87\n",
            "training accuracy: 0.6588888764381409\n",
            "epoch:88\n",
            "training accuracy: 0.6633333563804626\n",
            "epoch:89\n",
            "training accuracy: 0.6644444465637207\n",
            "epoch:90\n",
            "training accuracy: 0.6600000262260437\n",
            "epoch:91\n",
            "training accuracy: 0.6688888669013977\n",
            "epoch:92\n",
            "training accuracy: 0.6722221970558167\n",
            "epoch:93\n",
            "training accuracy: 0.6722221970558167\n",
            "epoch:94\n",
            "training accuracy: 0.6677777767181396\n",
            "epoch:95\n",
            "training accuracy: 0.6688888669013977\n",
            "epoch:96\n",
            "training accuracy: 0.6677777767181396\n",
            "epoch:97\n",
            "training accuracy: 0.6677777767181396\n",
            "epoch:98\n",
            "training accuracy: 0.6711111068725586\n",
            "epoch:99\n",
            "training accuracy: 0.6655555367469788\n",
            "epoch:100\n",
            "training accuracy: 0.6611111164093018\n",
            "epoch:101\n",
            "training accuracy: 0.6666666865348816\n",
            "epoch:102\n",
            "training accuracy: 0.6655555367469788\n",
            "epoch:103\n",
            "training accuracy: 0.6666666865348816\n",
            "epoch:104\n",
            "training accuracy: 0.6655555367469788\n",
            "epoch:105\n",
            "training accuracy: 0.6688888669013977\n",
            "epoch:106\n",
            "training accuracy: 0.6677777767181396\n",
            "epoch:107\n",
            "training accuracy: 0.6677777767181396\n",
            "epoch:108\n",
            "training accuracy: 0.6700000166893005\n",
            "epoch:109\n",
            "training accuracy: 0.6666666865348816\n",
            "epoch:110\n",
            "training accuracy: 0.6688888669013977\n",
            "epoch:111\n",
            "training accuracy: 0.6688888669013977\n",
            "epoch:112\n",
            "training accuracy: 0.6666666865348816\n",
            "epoch:113\n",
            "training accuracy: 0.6688888669013977\n",
            "epoch:114\n",
            "training accuracy: 0.6811110973358154\n",
            "epoch:115\n",
            "training accuracy: 0.6800000071525574\n",
            "epoch:116\n",
            "training accuracy: 0.6833333373069763\n",
            "epoch:117\n",
            "training accuracy: 0.6844444274902344\n",
            "epoch:118\n",
            "training accuracy: 0.6811110973358154\n",
            "epoch:119\n",
            "training accuracy: 0.6833333373069763\n",
            "epoch:120\n",
            "training accuracy: 0.6855555772781372\n",
            "epoch:121\n",
            "training accuracy: 0.6866666674613953\n",
            "epoch:122\n",
            "training accuracy: 0.6877777576446533\n",
            "epoch:123\n",
            "training accuracy: 0.6933333277702332\n",
            "epoch:124\n",
            "training accuracy: 0.6944444179534912\n",
            "epoch:125\n",
            "training accuracy: 0.695555567741394\n"
          ],
          "name": "stdout"
        },
        {
          "output_type": "stream",
          "text": [
            "epoch:126\n",
            "training accuracy: 0.6944444179534912\n",
            "epoch:127\n",
            "training accuracy: 0.6911110877990723\n",
            "epoch:128\n",
            "training accuracy: 0.6866666674613953\n",
            "epoch:129\n",
            "training accuracy: 0.6899999976158142\n",
            "epoch:130\n",
            "training accuracy: 0.6933333277702332\n",
            "epoch:131\n",
            "training accuracy: 0.6977777481079102\n",
            "epoch:132\n",
            "training accuracy: 0.6922222375869751\n",
            "epoch:133\n",
            "training accuracy: 0.6911110877990723\n",
            "epoch:134\n",
            "training accuracy: 0.6922222375869751\n",
            "epoch:135\n",
            "training accuracy: 0.6911110877990723\n",
            "epoch:136\n",
            "training accuracy: 0.6922222375869751\n",
            "epoch:137\n",
            "training accuracy: 0.6977777481079102\n",
            "epoch:138\n",
            "training accuracy: 0.7011111378669739\n",
            "epoch:139\n",
            "training accuracy: 0.7011111378669739\n",
            "epoch:140\n",
            "training accuracy: 0.698888897895813\n",
            "epoch:141\n",
            "training accuracy: 0.699999988079071\n",
            "epoch:142\n",
            "training accuracy: 0.70333331823349\n",
            "epoch:143\n",
            "training accuracy: 0.7044444680213928\n",
            "epoch:144\n",
            "training accuracy: 0.7066666483879089\n",
            "epoch:145\n",
            "training accuracy: 0.7088888883590698\n",
            "epoch:146\n",
            "training accuracy: 0.7099999785423279\n",
            "epoch:147\n",
            "training accuracy: 0.7122222185134888\n",
            "epoch:148\n",
            "training accuracy: 0.7166666388511658\n",
            "epoch:149\n",
            "training accuracy: 0.7099999785423279\n",
            "epoch:150\n",
            "training accuracy: 0.7111111283302307\n",
            "epoch:151\n",
            "training accuracy: 0.7088888883590698\n",
            "epoch:152\n",
            "training accuracy: 0.7111111283302307\n",
            "epoch:153\n",
            "training accuracy: 0.7133333086967468\n",
            "epoch:154\n",
            "training accuracy: 0.7133333086967468\n",
            "epoch:155\n",
            "training accuracy: 0.7144444584846497\n",
            "epoch:156\n",
            "training accuracy: 0.7133333086967468\n",
            "epoch:157\n",
            "training accuracy: 0.7177777886390686\n",
            "epoch:158\n",
            "training accuracy: 0.7300000190734863\n",
            "epoch:159\n",
            "training accuracy: 0.7277777791023254\n",
            "epoch:160\n",
            "training accuracy: 0.7333333492279053\n",
            "epoch:161\n",
            "training accuracy: 0.7277777791023254\n",
            "epoch:162\n",
            "training accuracy: 0.7288888692855835\n",
            "epoch:163\n",
            "training accuracy: 0.7244444489479065\n",
            "epoch:164\n",
            "training accuracy: 0.7277777791023254\n",
            "epoch:165\n",
            "training accuracy: 0.7311111092567444\n",
            "epoch:166\n",
            "training accuracy: 0.7333333492279053\n",
            "epoch:167\n",
            "training accuracy: 0.7377777695655823\n",
            "epoch:168\n",
            "training accuracy: 0.7388888597488403\n",
            "epoch:169\n",
            "training accuracy: 0.7366666793823242\n",
            "epoch:170\n",
            "training accuracy: 0.7411110997200012\n",
            "epoch:171\n",
            "training accuracy: 0.7411110997200012\n",
            "epoch:172\n",
            "training accuracy: 0.746666669845581\n",
            "epoch:173\n",
            "training accuracy: 0.745555579662323\n",
            "epoch:174\n",
            "training accuracy: 0.7522222399711609\n",
            "epoch:175\n",
            "training accuracy: 0.753333330154419\n",
            "epoch:176\n",
            "training accuracy: 0.753333330154419\n",
            "epoch:177\n",
            "training accuracy: 0.7522222399711609\n",
            "epoch:178\n",
            "training accuracy: 0.7555555701255798\n",
            "epoch:179\n",
            "training accuracy: 0.7555555701255798\n",
            "epoch:180\n",
            "training accuracy: 0.7555555701255798\n",
            "epoch:181\n",
            "training accuracy: 0.7555555701255798\n",
            "epoch:182\n",
            "training accuracy: 0.7588889002799988\n",
            "epoch:183\n",
            "training accuracy: 0.7588889002799988\n",
            "epoch:184\n",
            "training accuracy: 0.7655555605888367\n",
            "epoch:185\n",
            "training accuracy: 0.7633333206176758\n",
            "epoch:186\n",
            "training accuracy: 0.7588889002799988\n",
            "epoch:187\n",
            "training accuracy: 0.7677778005599976\n",
            "epoch:188\n",
            "training accuracy: 0.7611111402511597\n",
            "epoch:189\n",
            "training accuracy: 0.7633333206176758\n"
          ],
          "name": "stdout"
        },
        {
          "output_type": "stream",
          "text": [
            "epoch:190\n",
            "training accuracy: 0.7688888907432556\n",
            "epoch:191\n",
            "training accuracy: 0.7666666507720947\n",
            "epoch:192\n",
            "training accuracy: 0.7677778005599976\n",
            "epoch:193\n",
            "training accuracy: 0.7711111307144165\n",
            "epoch:194\n",
            "training accuracy: 0.7744444608688354\n",
            "epoch:195\n",
            "training accuracy: 0.7777777910232544\n",
            "epoch:196\n",
            "training accuracy: 0.7733333110809326\n",
            "epoch:197\n",
            "training accuracy: 0.7766666412353516\n",
            "epoch:198\n",
            "training accuracy: 0.7811111211776733\n",
            "epoch:199\n",
            "training accuracy: 0.7877777814865112\n",
            "epoch:200\n",
            "training accuracy: 0.7866666913032532\n",
            "epoch:201\n",
            "training accuracy: 0.7900000214576721\n",
            "epoch:202\n",
            "training accuracy: 0.7788888812065125\n",
            "epoch:203\n",
            "training accuracy: 0.7777777910232544\n",
            "epoch:204\n",
            "training accuracy: 0.7833333611488342\n",
            "epoch:205\n",
            "training accuracy: 0.7900000214576721\n",
            "epoch:206\n",
            "training accuracy: 0.7888888716697693\n",
            "epoch:207\n",
            "training accuracy: 0.7855555415153503\n",
            "epoch:208\n",
            "training accuracy: 0.7877777814865112\n",
            "epoch:209\n",
            "training accuracy: 0.7877777814865112\n",
            "epoch:210\n",
            "training accuracy: 0.7944444417953491\n",
            "epoch:211\n",
            "training accuracy: 0.7911111116409302\n",
            "epoch:212\n",
            "training accuracy: 0.8022222518920898\n",
            "epoch:213\n",
            "training accuracy: 0.7955555319786072\n",
            "epoch:214\n",
            "training accuracy: 0.79666668176651\n",
            "epoch:215\n",
            "training accuracy: 0.801111102104187\n",
            "epoch:216\n",
            "training accuracy: 0.804444432258606\n",
            "epoch:217\n",
            "training accuracy: 0.8055555820465088\n",
            "epoch:218\n",
            "training accuracy: 0.8100000023841858\n",
            "epoch:219\n",
            "training accuracy: 0.8133333325386047\n",
            "epoch:220\n",
            "training accuracy: 0.8088889122009277\n",
            "epoch:221\n",
            "training accuracy: 0.8133333325386047\n",
            "epoch:222\n",
            "training accuracy: 0.8188889026641846\n",
            "epoch:223\n",
            "training accuracy: 0.8155555725097656\n",
            "epoch:224\n",
            "training accuracy: 0.8222222328186035\n",
            "epoch:225\n",
            "training accuracy: 0.8155555725097656\n",
            "epoch:226\n",
            "training accuracy: 0.8155555725097656\n",
            "epoch:227\n",
            "training accuracy: 0.8211110830307007\n",
            "epoch:228\n",
            "training accuracy: 0.8188889026641846\n",
            "epoch:229\n",
            "training accuracy: 0.8188889026641846\n",
            "epoch:230\n",
            "training accuracy: 0.8233333230018616\n",
            "epoch:231\n",
            "training accuracy: 0.8211110830307007\n",
            "epoch:232\n",
            "training accuracy: 0.8244444727897644\n",
            "epoch:233\n",
            "training accuracy: 0.8244444727897644\n",
            "epoch:234\n",
            "training accuracy: 0.8299999833106995\n",
            "epoch:235\n",
            "training accuracy: 0.8277778029441833\n",
            "epoch:236\n",
            "training accuracy: 0.8299999833106995\n",
            "epoch:237\n",
            "training accuracy: 0.8266666531562805\n",
            "epoch:238\n",
            "training accuracy: 0.8233333230018616\n",
            "epoch:239\n",
            "training accuracy: 0.8333333134651184\n",
            "epoch:240\n",
            "training accuracy: 0.8344444632530212\n",
            "epoch:241\n",
            "training accuracy: 0.8322222232818604\n",
            "epoch:242\n",
            "training accuracy: 0.8311111330986023\n",
            "epoch:243\n",
            "training accuracy: 0.8366666436195374\n",
            "epoch:244\n",
            "training accuracy: 0.8388888835906982\n",
            "epoch:245\n",
            "training accuracy: 0.8399999737739563\n",
            "epoch:246\n",
            "training accuracy: 0.8411111235618591\n",
            "epoch:247\n",
            "training accuracy: 0.8399999737739563\n",
            "epoch:248\n",
            "training accuracy: 0.8388888835906982\n",
            "epoch:249\n",
            "training accuracy: 0.8388888835906982\n",
            "epoch:250\n",
            "training accuracy: 0.8422222137451172\n",
            "epoch:251\n",
            "training accuracy: 0.847777783870697\n",
            "epoch:252\n",
            "training accuracy: 0.8455555438995361\n",
            "epoch:253\n",
            "training accuracy: 0.8500000238418579\n"
          ],
          "name": "stdout"
        },
        {
          "output_type": "stream",
          "text": [
            "epoch:254\n",
            "training accuracy: 0.8488888740539551\n",
            "epoch:255\n",
            "training accuracy: 0.8488888740539551\n",
            "epoch:256\n",
            "training accuracy: 0.8488888740539551\n",
            "epoch:257\n",
            "training accuracy: 0.8488888740539551\n",
            "epoch:258\n",
            "training accuracy: 0.846666693687439\n",
            "epoch:259\n",
            "training accuracy: 0.8500000238418579\n",
            "epoch:260\n",
            "training accuracy: 0.846666693687439\n",
            "epoch:261\n",
            "training accuracy: 0.851111114025116\n",
            "epoch:262\n",
            "training accuracy: 0.847777783870697\n",
            "epoch:263\n",
            "training accuracy: 0.8544444441795349\n",
            "epoch:264\n",
            "training accuracy: 0.855555534362793\n",
            "epoch:265\n",
            "training accuracy: 0.8611111044883728\n",
            "epoch:266\n",
            "training accuracy: 0.8533333539962769\n",
            "epoch:267\n",
            "training accuracy: 0.8566666841506958\n",
            "epoch:268\n",
            "training accuracy: 0.8655555844306946\n",
            "epoch:269\n",
            "training accuracy: 0.8655555844306946\n",
            "epoch:270\n",
            "training accuracy: 0.8655555844306946\n",
            "epoch:271\n",
            "training accuracy: 0.8633333444595337\n",
            "epoch:272\n",
            "training accuracy: 0.8711110949516296\n",
            "epoch:273\n",
            "training accuracy: 0.8677777647972107\n",
            "epoch:274\n",
            "training accuracy: 0.8700000047683716\n",
            "epoch:275\n",
            "training accuracy: 0.8688889145851135\n",
            "epoch:276\n",
            "training accuracy: 0.8722222447395325\n",
            "epoch:277\n",
            "training accuracy: 0.8744444251060486\n",
            "epoch:278\n",
            "training accuracy: 0.8777777552604675\n",
            "epoch:279\n",
            "training accuracy: 0.8700000047683716\n",
            "epoch:280\n",
            "training accuracy: 0.8733333349227905\n",
            "epoch:281\n",
            "training accuracy: 0.8788889050483704\n",
            "epoch:282\n",
            "training accuracy: 0.8766666650772095\n",
            "epoch:283\n",
            "training accuracy: 0.8733333349227905\n",
            "epoch:284\n",
            "training accuracy: 0.8777777552604675\n",
            "epoch:285\n",
            "training accuracy: 0.8822222352027893\n",
            "epoch:286\n",
            "training accuracy: 0.8755555748939514\n",
            "epoch:287\n",
            "training accuracy: 0.8766666650772095\n",
            "epoch:288\n",
            "training accuracy: 0.8822222352027893\n",
            "epoch:289\n",
            "training accuracy: 0.8833333253860474\n",
            "epoch:290\n",
            "training accuracy: 0.8799999952316284\n",
            "epoch:291\n",
            "training accuracy: 0.8777777552604675\n",
            "epoch:292\n",
            "training accuracy: 0.8833333253860474\n",
            "epoch:293\n",
            "training accuracy: 0.8844444155693054\n",
            "epoch:294\n",
            "training accuracy: 0.8899999856948853\n",
            "epoch:295\n",
            "training accuracy: 0.8922222256660461\n",
            "epoch:296\n",
            "training accuracy: 0.894444465637207\n",
            "epoch:297\n",
            "training accuracy: 0.8933333158493042\n",
            "epoch:298\n",
            "training accuracy: 0.894444465637207\n",
            "epoch:299\n",
            "training accuracy: 0.8966666460037231\n",
            "epoch:300\n",
            "training accuracy: 0.902222216129303\n",
            "epoch:301\n",
            "training accuracy: 0.902222216129303\n",
            "epoch:302\n",
            "training accuracy: 0.897777795791626\n",
            "epoch:303\n",
            "training accuracy: 0.9011111259460449\n",
            "epoch:304\n",
            "training accuracy: 0.9011111259460449\n",
            "epoch:305\n",
            "training accuracy: 0.8999999761581421\n",
            "epoch:306\n",
            "training accuracy: 0.9011111259460449\n",
            "epoch:307\n",
            "training accuracy: 0.9055555462837219\n",
            "epoch:308\n",
            "training accuracy: 0.9011111259460449\n",
            "epoch:309\n",
            "training accuracy: 0.9044444561004639\n",
            "epoch:310\n",
            "training accuracy: 0.9077777862548828\n",
            "epoch:311\n",
            "training accuracy: 0.9111111164093018\n",
            "epoch:312\n",
            "training accuracy: 0.9044444561004639\n",
            "epoch:313\n",
            "training accuracy: 0.9100000262260437\n",
            "epoch:314\n",
            "training accuracy: 0.9100000262260437\n",
            "epoch:315\n",
            "training accuracy: 0.9111111164093018\n",
            "epoch:316\n",
            "training accuracy: 0.9100000262260437\n",
            "epoch:317\n",
            "training accuracy: 0.9144444465637207\n"
          ],
          "name": "stdout"
        },
        {
          "output_type": "stream",
          "text": [
            "epoch:318\n",
            "training accuracy: 0.9155555367469788\n",
            "epoch:319\n",
            "training accuracy: 0.9211111068725586\n",
            "epoch:320\n",
            "training accuracy: 0.9200000166893005\n",
            "epoch:321\n",
            "training accuracy: 0.9166666865348816\n",
            "epoch:322\n",
            "training accuracy: 0.9244444370269775\n",
            "epoch:323\n",
            "training accuracy: 0.9166666865348816\n",
            "epoch:324\n",
            "training accuracy: 0.9222221970558167\n",
            "epoch:325\n",
            "training accuracy: 0.9277777671813965\n",
            "epoch:326\n",
            "training accuracy: 0.9288889169692993\n",
            "epoch:327\n",
            "training accuracy: 0.9244444370269775\n",
            "epoch:328\n",
            "training accuracy: 0.9255555272102356\n",
            "epoch:329\n",
            "training accuracy: 0.9300000071525574\n",
            "epoch:330\n",
            "training accuracy: 0.9222221970558167\n",
            "epoch:331\n",
            "training accuracy: 0.9277777671813965\n",
            "epoch:332\n",
            "training accuracy: 0.9333333373069763\n",
            "epoch:333\n",
            "training accuracy: 0.9322222471237183\n",
            "epoch:334\n",
            "training accuracy: 0.9311110973358154\n",
            "epoch:335\n",
            "training accuracy: 0.9366666674613953\n",
            "epoch:336\n",
            "training accuracy: 0.9444444179534912\n",
            "epoch:337\n",
            "training accuracy: 0.9355555772781372\n",
            "epoch:338\n",
            "training accuracy: 0.9444444179534912\n",
            "epoch:339\n",
            "training accuracy: 0.9399999976158142\n",
            "epoch:340\n",
            "training accuracy: 0.9411110877990723\n",
            "epoch:341\n",
            "training accuracy: 0.9388889074325562\n",
            "epoch:342\n",
            "training accuracy: 0.9399999976158142\n",
            "epoch:343\n",
            "training accuracy: 0.9433333277702332\n",
            "epoch:344\n",
            "training accuracy: 0.9444444179534912\n",
            "epoch:345\n",
            "training accuracy: 0.9511111378669739\n",
            "epoch:346\n",
            "training accuracy: 0.9511111378669739\n",
            "epoch:347\n",
            "training accuracy: 0.95333331823349\n",
            "epoch:348\n",
            "training accuracy: 0.9522222280502319\n",
            "epoch:349\n",
            "training accuracy: 0.9577777981758118\n",
            "epoch:350\n",
            "training accuracy: 0.9555555582046509\n",
            "epoch:351\n",
            "training accuracy: 0.9544444680213928\n",
            "epoch:352\n",
            "training accuracy: 0.9555555582046509\n",
            "epoch:353\n",
            "training accuracy: 0.9599999785423279\n",
            "epoch:354\n",
            "training accuracy: 0.9611111283302307\n",
            "epoch:355\n",
            "training accuracy: 0.9577777981758118\n",
            "epoch:356\n",
            "training accuracy: 0.9599999785423279\n",
            "epoch:357\n",
            "training accuracy: 0.9588888883590698\n",
            "epoch:358\n",
            "training accuracy: 0.9633333086967468\n",
            "epoch:359\n",
            "training accuracy: 0.9666666388511658\n",
            "epoch:360\n",
            "training accuracy: 0.9666666388511658\n",
            "epoch:361\n",
            "training accuracy: 0.9666666388511658\n",
            "epoch:362\n",
            "training accuracy: 0.9688888788223267\n",
            "epoch:363\n",
            "training accuracy: 0.9711111187934875\n",
            "epoch:364\n",
            "training accuracy: 0.9700000286102295\n",
            "epoch:365\n",
            "training accuracy: 0.9711111187934875\n",
            "epoch:366\n",
            "training accuracy: 0.9733333587646484\n",
            "epoch:367\n",
            "training accuracy: 0.9722222089767456\n",
            "epoch:368\n",
            "training accuracy: 0.9677777886390686\n",
            "epoch:369\n",
            "training accuracy: 0.9733333587646484\n",
            "epoch:370\n",
            "training accuracy: 0.9711111187934875\n",
            "epoch:371\n",
            "training accuracy: 0.9666666388511658\n",
            "epoch:372\n",
            "training accuracy: 0.9722222089767456\n",
            "epoch:373\n",
            "training accuracy: 0.9733333587646484\n",
            "epoch:374\n",
            "training accuracy: 0.9777777791023254\n",
            "epoch:375\n",
            "training accuracy: 0.9700000286102295\n",
            "epoch:376\n",
            "training accuracy: 0.9788888692855835\n",
            "epoch:377\n",
            "training accuracy: 0.9688888788223267\n",
            "epoch:378\n",
            "training accuracy: 0.9766666889190674\n",
            "epoch:379\n",
            "training accuracy: 0.9755555391311646\n",
            "epoch:380\n",
            "training accuracy: 0.9777777791023254\n",
            "epoch:381\n",
            "training accuracy: 0.9800000190734863\n"
          ],
          "name": "stdout"
        },
        {
          "output_type": "stream",
          "text": [
            "epoch:382\n",
            "training accuracy: 0.9822221994400024\n",
            "epoch:383\n",
            "training accuracy: 0.9822221994400024\n",
            "epoch:384\n",
            "training accuracy: 0.9811111092567444\n",
            "epoch:385\n",
            "training accuracy: 0.9811111092567444\n",
            "epoch:386\n",
            "training accuracy: 0.9766666889190674\n",
            "epoch:387\n",
            "training accuracy: 0.9811111092567444\n",
            "epoch:388\n",
            "training accuracy: 0.9811111092567444\n",
            "epoch:389\n",
            "training accuracy: 0.9811111092567444\n",
            "epoch:390\n",
            "training accuracy: 0.9833333492279053\n",
            "epoch:391\n",
            "training accuracy: 0.9844444394111633\n",
            "epoch:392\n",
            "training accuracy: 0.9877777695655823\n",
            "epoch:393\n",
            "training accuracy: 0.9855555295944214\n",
            "epoch:394\n",
            "training accuracy: 0.9866666793823242\n",
            "epoch:395\n",
            "training accuracy: 0.9866666793823242\n",
            "epoch:396\n",
            "training accuracy: 0.9855555295944214\n",
            "epoch:397\n",
            "training accuracy: 0.9855555295944214\n",
            "epoch:398\n",
            "training accuracy: 0.9855555295944214\n",
            "epoch:399\n",
            "training accuracy: 0.9844444394111633\n",
            "test accuracy: 0.6632652878761292\n"
          ],
          "name": "stdout"
        }
      ]
    },
    {
      "metadata": {
        "id": "M57ClICbmBT7",
        "colab_type": "code",
        "colab": {
          "autoexec": {
            "startup": false,
            "wait_interval": 0
          }
        }
      },
      "cell_type": "code",
      "source": [
        ""
      ],
      "execution_count": 0,
      "outputs": []
    }
  ]
}