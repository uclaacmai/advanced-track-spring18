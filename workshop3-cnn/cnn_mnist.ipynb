{
  "nbformat": 4,
  "nbformat_minor": 0,
  "metadata": {
    "colab": {
      "name": "cnn_mnist.ipynb",
      "version": "0.3.2",
      "views": {},
      "default_view": {},
      "provenance": [],
      "collapsed_sections": []
    },
    "kernelspec": {
      "name": "python3",
      "display_name": "Python 3"
    },
    "accelerator": "GPU"
  },
  "cells": [
    {
      "metadata": {
        "id": "Ko0tAffRrvBy",
        "colab_type": "text"
      },
      "cell_type": "markdown",
      "source": [
        "# Convolutional Neural Network and MNIST\n",
        "\n",
        "## Architecture:\n",
        "INPUT -> CONV1 -> RELU1 -> POOL1 -> CONV2 -> RELU2 -> POOL2 -> FC1 -> FC2 (OUTPUT, SOFTMAX)"
      ]
    },
    {
      "metadata": {
        "id": "RlM8Cb1VgFVi",
        "colab_type": "code",
        "colab": {
          "autoexec": {
            "startup": false,
            "wait_interval": 0
          }
        }
      },
      "cell_type": "code",
      "source": [
        "import tensorflow as tf\n",
        "import numpy as np\n",
        "import matplotlib.pyplot as plt\n",
        "import datetime\n",
        "%matplotlib inline\n",
        "import math"
      ],
      "execution_count": 0,
      "outputs": []
    },
    {
      "metadata": {
        "id": "7CfLyWI6geyb",
        "colab_type": "code",
        "colab": {
          "autoexec": {
            "startup": false,
            "wait_interval": 0
          },
          "base_uri": "https://localhost:8080/",
          "height": 530
        },
        "outputId": "2eaa2746-2231-4757-f94f-14eec6c46317",
        "executionInfo": {
          "status": "ok",
          "timestamp": 1526077146332,
          "user_tz": 420,
          "elapsed": 7211,
          "user": {
            "displayName": "Henry Yang",
            "photoUrl": "//lh6.googleusercontent.com/-GXPDq6tqJwc/AAAAAAAAAAI/AAAAAAAAAuQ/rfqB3nVANgo/s50-c-k-no/photo.jpg",
            "userId": "103780741221149720480"
          }
        }
      },
      "cell_type": "code",
      "source": [
        "from tensorflow.examples.tutorials.mnist import input_data\n",
        "mnist = input_data.read_data_sets(\"MNIST_data/\", one_hot=True)"
      ],
      "execution_count": 2,
      "outputs": [
        {
          "output_type": "stream",
          "text": [
            "WARNING:tensorflow:From <ipython-input-2-8bf8ae5a5303>:2: read_data_sets (from tensorflow.contrib.learn.python.learn.datasets.mnist) is deprecated and will be removed in a future version.\n",
            "Instructions for updating:\n",
            "Please use alternatives such as official/mnist/dataset.py from tensorflow/models.\n",
            "WARNING:tensorflow:From /usr/local/lib/python3.6/dist-packages/tensorflow/contrib/learn/python/learn/datasets/mnist.py:260: maybe_download (from tensorflow.contrib.learn.python.learn.datasets.base) is deprecated and will be removed in a future version.\n",
            "Instructions for updating:\n",
            "Please write your own downloading logic.\n",
            "WARNING:tensorflow:From /usr/local/lib/python3.6/dist-packages/tensorflow/contrib/learn/python/learn/datasets/base.py:252: _internal_retry.<locals>.wrap.<locals>.wrapped_fn (from tensorflow.contrib.learn.python.learn.datasets.base) is deprecated and will be removed in a future version.\n",
            "Instructions for updating:\n",
            "Please use urllib or similar directly.\n",
            "Successfully downloaded train-images-idx3-ubyte.gz 9912422 bytes.\n",
            "WARNING:tensorflow:From /usr/local/lib/python3.6/dist-packages/tensorflow/contrib/learn/python/learn/datasets/mnist.py:262: extract_images (from tensorflow.contrib.learn.python.learn.datasets.mnist) is deprecated and will be removed in a future version.\n",
            "Instructions for updating:\n",
            "Please use tf.data to implement this functionality.\n",
            "Extracting MNIST_data/train-images-idx3-ubyte.gz\n",
            "Successfully downloaded train-labels-idx1-ubyte.gz 28881 bytes.\n",
            "WARNING:tensorflow:From /usr/local/lib/python3.6/dist-packages/tensorflow/contrib/learn/python/learn/datasets/mnist.py:267: extract_labels (from tensorflow.contrib.learn.python.learn.datasets.mnist) is deprecated and will be removed in a future version.\n",
            "Instructions for updating:\n",
            "Please use tf.data to implement this functionality.\n",
            "Extracting MNIST_data/train-labels-idx1-ubyte.gz\n",
            "WARNING:tensorflow:From /usr/local/lib/python3.6/dist-packages/tensorflow/contrib/learn/python/learn/datasets/mnist.py:110: dense_to_one_hot (from tensorflow.contrib.learn.python.learn.datasets.mnist) is deprecated and will be removed in a future version.\n",
            "Instructions for updating:\n",
            "Please use tf.one_hot on tensors.\n",
            "Successfully downloaded t10k-images-idx3-ubyte.gz 1648877 bytes.\n",
            "Extracting MNIST_data/t10k-images-idx3-ubyte.gz\n",
            "Successfully downloaded t10k-labels-idx1-ubyte.gz 4542 bytes.\n",
            "Extracting MNIST_data/t10k-labels-idx1-ubyte.gz\n",
            "WARNING:tensorflow:From /usr/local/lib/python3.6/dist-packages/tensorflow/contrib/learn/python/learn/datasets/mnist.py:290: DataSet.__init__ (from tensorflow.contrib.learn.python.learn.datasets.mnist) is deprecated and will be removed in a future version.\n",
            "Instructions for updating:\n",
            "Please use alternatives such as official/mnist/dataset.py from tensorflow/models.\n"
          ],
          "name": "stdout"
        }
      ]
    },
    {
      "metadata": {
        "id": "-Ed8RHkPxqNj",
        "colab_type": "code",
        "colab": {
          "autoexec": {
            "startup": false,
            "wait_interval": 0
          }
        }
      },
      "cell_type": "code",
      "source": [
        "# defining hyperparameters\n",
        "learning_rate = 0.1\n",
        "num_epochs = 5000\n",
        "batch_size = 100"
      ],
      "execution_count": 0,
      "outputs": []
    },
    {
      "metadata": {
        "id": "zP279pCtgtND",
        "colab_type": "code",
        "colab": {
          "autoexec": {
            "startup": false,
            "wait_interval": 0
          }
        }
      },
      "cell_type": "code",
      "source": [
        "# defining placeholders\n",
        "x = tf.placeholder(\"float\", shape = [None, 28, 28, 1])\n",
        "y_ = tf.placeholder(\"float\", shape = [None, 10])"
      ],
      "execution_count": 0,
      "outputs": []
    },
    {
      "metadata": {
        "id": "op-rFWhTnWg1",
        "colab_type": "text"
      },
      "cell_type": "markdown",
      "source": [
        "### Define some helper functions\n"
      ]
    },
    {
      "metadata": {
        "id": "ZY4iLf69mzJc",
        "colab_type": "code",
        "colab": {
          "autoexec": {
            "startup": false,
            "wait_interval": 0
          }
        }
      },
      "cell_type": "code",
      "source": [
        "# padding = 1, strides = 1\n",
        "def conv2d(x, w):\n",
        "  return tf.nn.conv2d(input=x, filter=w, strides=[1,1,1,1], padding=\"SAME\")\n",
        "\n",
        "# padding = none, strides = 2, filter size = 2\n",
        "# note that the pool layer isn't parameterized by weights\n",
        "def max_pool_2x2(x):\n",
        "  return tf.nn.max_pool(x, ksize=[1,2,2,1], strides=[1,2,2,1], padding=\"VALID\")"
      ],
      "execution_count": 0,
      "outputs": []
    },
    {
      "metadata": {
        "id": "uxzsP-ZvrkfT",
        "colab_type": "text"
      },
      "cell_type": "markdown",
      "source": [
        "### Define the first Conv-Relu-Pool layers"
      ]
    },
    {
      "metadata": {
        "id": "wV-9Y0hfhqaQ",
        "colab_type": "code",
        "colab": {
          "autoexec": {
            "startup": false,
            "wait_interval": 0
          }
        }
      },
      "cell_type": "code",
      "source": [
        "w_conv1 = tf.Variable(tf.truncated_normal([3, 3, 1, 32], stddev=0.1))\n",
        "b_conv1 = tf.Variable(tf.constant(0.1, shape = [32]))"
      ],
      "execution_count": 0,
      "outputs": []
    },
    {
      "metadata": {
        "id": "8gilkyUXlDea",
        "colab_type": "code",
        "colab": {
          "autoexec": {
            "startup": false,
            "wait_interval": 0
          },
          "base_uri": "https://localhost:8080/",
          "height": 68
        },
        "outputId": "ad5a8b40-69bd-401b-e692-dc6e36d3c9f3",
        "executionInfo": {
          "status": "ok",
          "timestamp": 1526077148275,
          "user_tz": 420,
          "elapsed": 564,
          "user": {
            "displayName": "Henry Yang",
            "photoUrl": "//lh6.googleusercontent.com/-GXPDq6tqJwc/AAAAAAAAAAI/AAAAAAAAAuQ/rfqB3nVANgo/s50-c-k-no/photo.jpg",
            "userId": "103780741221149720480"
          }
        }
      },
      "cell_type": "code",
      "source": [
        "h_conv1 = conv2d(x, w_conv1)\n",
        "h_relu1 = tf.nn.relu(h_conv1)\n",
        "h_pool1 = max_pool_2x2(h_relu1)\n",
        "\n",
        "print(h_conv1)\n",
        "print(h_relu1)\n",
        "print(h_pool1)"
      ],
      "execution_count": 7,
      "outputs": [
        {
          "output_type": "stream",
          "text": [
            "Tensor(\"Conv2D:0\", shape=(?, 28, 28, 32), dtype=float32)\n",
            "Tensor(\"Relu:0\", shape=(?, 28, 28, 32), dtype=float32)\n",
            "Tensor(\"MaxPool:0\", shape=(?, 14, 14, 32), dtype=float32)\n"
          ],
          "name": "stdout"
        }
      ]
    },
    {
      "metadata": {
        "id": "lbB-sgcdrqUh",
        "colab_type": "text"
      },
      "cell_type": "markdown",
      "source": [
        "### Define the second Conv-Relu-Pool layers"
      ]
    },
    {
      "metadata": {
        "id": "RShLEzYOrS9k",
        "colab_type": "code",
        "colab": {
          "autoexec": {
            "startup": false,
            "wait_interval": 0
          }
        }
      },
      "cell_type": "code",
      "source": [
        "w_conv2 = tf.Variable(tf.truncated_normal([3, 3, 32, 64], stddev=0.1))\n",
        "b_conv2 = tf.Variable(tf.constant(0.1, shape=[64]))"
      ],
      "execution_count": 0,
      "outputs": []
    },
    {
      "metadata": {
        "id": "JS7Xm4lRs7-s",
        "colab_type": "code",
        "colab": {
          "autoexec": {
            "startup": false,
            "wait_interval": 0
          },
          "base_uri": "https://localhost:8080/",
          "height": 68
        },
        "outputId": "cf8fdf57-8b6f-4a88-9729-76ed997c75ff",
        "executionInfo": {
          "status": "ok",
          "timestamp": 1526077149058,
          "user_tz": 420,
          "elapsed": 315,
          "user": {
            "displayName": "Henry Yang",
            "photoUrl": "//lh6.googleusercontent.com/-GXPDq6tqJwc/AAAAAAAAAAI/AAAAAAAAAuQ/rfqB3nVANgo/s50-c-k-no/photo.jpg",
            "userId": "103780741221149720480"
          }
        }
      },
      "cell_type": "code",
      "source": [
        "h_conv2 = conv2d(h_pool1, w_conv2)\n",
        "h_relu2 = tf.nn.relu(h_conv2)\n",
        "h_pool2 = max_pool_2x2(h_relu2)\n",
        "\n",
        "print(h_conv2)\n",
        "print(h_relu2)\n",
        "print(h_pool2)"
      ],
      "execution_count": 9,
      "outputs": [
        {
          "output_type": "stream",
          "text": [
            "Tensor(\"Conv2D_1:0\", shape=(?, 14, 14, 64), dtype=float32)\n",
            "Tensor(\"Relu_1:0\", shape=(?, 14, 14, 64), dtype=float32)\n",
            "Tensor(\"MaxPool_1:0\", shape=(?, 7, 7, 64), dtype=float32)\n"
          ],
          "name": "stdout"
        }
      ]
    },
    {
      "metadata": {
        "id": "rcFu4L5-tO3w",
        "colab_type": "text"
      },
      "cell_type": "markdown",
      "source": [
        "### Define the first FC layer"
      ]
    },
    {
      "metadata": {
        "id": "y8BeIMYotNFz",
        "colab_type": "code",
        "colab": {
          "autoexec": {
            "startup": false,
            "wait_interval": 0
          },
          "base_uri": "https://localhost:8080/",
          "height": 34
        },
        "outputId": "2cd0d8f0-623b-4b79-dfa8-69c2cae2ccc3",
        "executionInfo": {
          "status": "ok",
          "timestamp": 1526077149468,
          "user_tz": 420,
          "elapsed": 323,
          "user": {
            "displayName": "Henry Yang",
            "photoUrl": "//lh6.googleusercontent.com/-GXPDq6tqJwc/AAAAAAAAAAI/AAAAAAAAAuQ/rfqB3nVANgo/s50-c-k-no/photo.jpg",
            "userId": "103780741221149720480"
          }
        }
      },
      "cell_type": "code",
      "source": [
        "fc_units1 = 1024\n",
        "w_fc1 = tf.Variable(tf.truncated_normal([7*7*64, fc_units1], stddev=0.1))\n",
        "b_fc1 = tf.Variable(tf.constant(0.1, shape=[fc_units1]))\n",
        "\n",
        "h_pool2_flat = tf.reshape(h_pool2, [-1, 7*7*64])\n",
        "h_fc1 = tf.nn.relu(tf.matmul(h_pool2_flat, w_fc1) + b_fc1)\n",
        "\n",
        "print(h_fc1)"
      ],
      "execution_count": 10,
      "outputs": [
        {
          "output_type": "stream",
          "text": [
            "Tensor(\"Relu_2:0\", shape=(?, 1024), dtype=float32)\n"
          ],
          "name": "stdout"
        }
      ]
    },
    {
      "metadata": {
        "id": "Ihzsn-Itv52h",
        "colab_type": "text"
      },
      "cell_type": "markdown",
      "source": [
        "### Define the Output Layer\n",
        "\n",
        "Remember the output layer is returning the class probabilities (10 classes)"
      ]
    },
    {
      "metadata": {
        "id": "AubqFTJYvCMf",
        "colab_type": "code",
        "colab": {
          "autoexec": {
            "startup": false,
            "wait_interval": 0
          },
          "base_uri": "https://localhost:8080/",
          "height": 34
        },
        "outputId": "439b3616-41ca-43c9-efd7-ee54bba69662",
        "executionInfo": {
          "status": "ok",
          "timestamp": 1526077150123,
          "user_tz": 420,
          "elapsed": 468,
          "user": {
            "displayName": "Henry Yang",
            "photoUrl": "//lh6.googleusercontent.com/-GXPDq6tqJwc/AAAAAAAAAAI/AAAAAAAAAuQ/rfqB3nVANgo/s50-c-k-no/photo.jpg",
            "userId": "103780741221149720480"
          }
        }
      },
      "cell_type": "code",
      "source": [
        "w_fc2 = tf.Variable(tf.truncated_normal([fc_units1, 10], stddev=0.1))\n",
        "b_fc2 = tf.Variable(tf.constant(0.1, shape=[10]))\n",
        "\n",
        "logits = tf.matmul(h_fc1, w_fc2) + b_fc2\n",
        "\n",
        "print(logits)"
      ],
      "execution_count": 11,
      "outputs": [
        {
          "output_type": "stream",
          "text": [
            "Tensor(\"add_1:0\", shape=(?, 10), dtype=float32)\n"
          ],
          "name": "stdout"
        }
      ]
    },
    {
      "metadata": {
        "id": "_E5JZf6twb0M",
        "colab_type": "text"
      },
      "cell_type": "markdown",
      "source": [
        "### Softmax! Lost Function! Optimization!"
      ]
    },
    {
      "metadata": {
        "id": "wt3CFuhswYHr",
        "colab_type": "code",
        "colab": {
          "autoexec": {
            "startup": false,
            "wait_interval": 0
          },
          "base_uri": "https://localhost:8080/",
          "height": 173
        },
        "outputId": "3bfc37d2-522c-46c5-9f17-e9789c35f446",
        "executionInfo": {
          "status": "ok",
          "timestamp": 1526077150614,
          "user_tz": 420,
          "elapsed": 338,
          "user": {
            "displayName": "Henry Yang",
            "photoUrl": "//lh6.googleusercontent.com/-GXPDq6tqJwc/AAAAAAAAAAI/AAAAAAAAAuQ/rfqB3nVANgo/s50-c-k-no/photo.jpg",
            "userId": "103780741221149720480"
          }
        }
      },
      "cell_type": "code",
      "source": [
        "cross_entropy_loss = tf.reduce_mean(tf.nn.softmax_cross_entropy_with_logits(labels=y_, logits=logits))\n",
        "optimizer = tf.train.GradientDescentOptimizer(learning_rate).minimize(cross_entropy_loss)"
      ],
      "execution_count": 12,
      "outputs": [
        {
          "output_type": "stream",
          "text": [
            "WARNING:tensorflow:From <ipython-input-12-a0ca48a969f0>:1: softmax_cross_entropy_with_logits (from tensorflow.python.ops.nn_ops) is deprecated and will be removed in a future version.\n",
            "Instructions for updating:\n",
            "\n",
            "Future major versions of TensorFlow will allow gradients to flow\n",
            "into the labels input on backprop by default.\n",
            "\n",
            "See tf.nn.softmax_cross_entropy_with_logits_v2.\n",
            "\n"
          ],
          "name": "stdout"
        }
      ]
    },
    {
      "metadata": {
        "id": "F1MQrGJKxJNA",
        "colab_type": "text"
      },
      "cell_type": "markdown",
      "source": [
        "### Some metrics to track while training"
      ]
    },
    {
      "metadata": {
        "id": "U5Ws7Ysmw71n",
        "colab_type": "code",
        "colab": {
          "autoexec": {
            "startup": false,
            "wait_interval": 0
          }
        }
      },
      "cell_type": "code",
      "source": [
        "correct_predictions = tf.equal(tf.argmax(logits, 1), tf.argmax(y_, 1))\n",
        "accuracy = tf.reduce_mean(tf.cast(correct_predictions, tf.float32))"
      ],
      "execution_count": 0,
      "outputs": []
    },
    {
      "metadata": {
        "id": "X7SthjZDxV2K",
        "colab_type": "text"
      },
      "cell_type": "markdown",
      "source": [
        "### Let's train our model"
      ]
    },
    {
      "metadata": {
        "id": "0aui1JzdxRE9",
        "colab_type": "code",
        "colab": {
          "autoexec": {
            "startup": false,
            "wait_interval": 0
          }
        }
      },
      "cell_type": "code",
      "source": [
        "# initialize tensorflow variables\n",
        "init = tf.global_variables_initializer()\n",
        "saver = tf.train.Saver()"
      ],
      "execution_count": 0,
      "outputs": []
    },
    {
      "metadata": {
        "id": "k7YaZ2YRxeot",
        "colab_type": "code",
        "colab": {
          "autoexec": {
            "startup": false,
            "wait_interval": 0
          },
          "base_uri": "https://localhost:8080/",
          "height": 884
        },
        "outputId": "0abd706b-93fc-4c10-aa38-f111f875ee54",
        "executionInfo": {
          "status": "ok",
          "timestamp": 1526077191689,
          "user_tz": 420,
          "elapsed": 39484,
          "user": {
            "displayName": "Henry Yang",
            "photoUrl": "//lh6.googleusercontent.com/-GXPDq6tqJwc/AAAAAAAAAAI/AAAAAAAAAuQ/rfqB3nVANgo/s50-c-k-no/photo.jpg",
            "userId": "103780741221149720480"
          }
        }
      },
      "cell_type": "code",
      "source": [
        "# run model\n",
        "with tf.Session() as sess:\n",
        "    sess.run(init)\n",
        "    for i in range(num_epochs):\n",
        "        x_batch, y_batch = mnist.train.next_batch(batch_size)\n",
        "        x_batch = x_batch.reshape([batch_size, 28, 28, 1]) # we no longer want a flat vector of pixels\n",
        "        optimizer.run(feed_dict = {x: x_batch, y_: y_batch})\n",
        "        if i % 100 == 0:\n",
        "            acc = accuracy.eval(feed_dict = {x: x_batch, y_: y_batch})\n",
        "            loss = cross_entropy_loss.eval(feed_dict = {x: x_batch, y_: y_batch})\n",
        "            print(\"Epoch: {}, accuracy: {}, loss: {}\".format(i, acc, loss))\n",
        "\n",
        "    acc = accuracy.eval(feed_dict = {x: mnist.test.images.reshape([-1, 28, 28, 1]), y_:mnist.test.labels}) # here too\n",
        "    print(\"Test accuracy: {}\".format(acc))\n",
        "    saver.save(sess, \"./saved_model.ckpt\")"
      ],
      "execution_count": 15,
      "outputs": [
        {
          "output_type": "stream",
          "text": [
            "Epoch: 0, accuracy: 0.28999999165534973, loss: 2.991023063659668\n",
            "Epoch: 100, accuracy: 1.0, loss: 0.057250846177339554\n",
            "Epoch: 200, accuracy: 0.9900000095367432, loss: 0.04043462127447128\n",
            "Epoch: 300, accuracy: 1.0, loss: 0.013961885124444962\n",
            "Epoch: 400, accuracy: 0.9900000095367432, loss: 0.048914507031440735\n",
            "Epoch: 500, accuracy: 1.0, loss: 0.0081412885338068\n",
            "Epoch: 600, accuracy: 1.0, loss: 0.010748974978923798\n",
            "Epoch: 700, accuracy: 1.0, loss: 0.015011988580226898\n",
            "Epoch: 800, accuracy: 1.0, loss: 0.01861169934272766\n",
            "Epoch: 900, accuracy: 0.9900000095367432, loss: 0.03372485935688019\n",
            "Epoch: 1000, accuracy: 1.0, loss: 0.006531117483973503\n",
            "Epoch: 1100, accuracy: 1.0, loss: 0.00835238117724657\n",
            "Epoch: 1200, accuracy: 1.0, loss: 0.010753377340734005\n",
            "Epoch: 1300, accuracy: 1.0, loss: 0.004388762637972832\n",
            "Epoch: 1400, accuracy: 1.0, loss: 0.005036098416894674\n",
            "Epoch: 1500, accuracy: 1.0, loss: 0.007550382055342197\n",
            "Epoch: 1600, accuracy: 1.0, loss: 0.015122861601412296\n",
            "Epoch: 1700, accuracy: 1.0, loss: 0.014827664010226727\n",
            "Epoch: 1800, accuracy: 1.0, loss: 0.009214607998728752\n",
            "Epoch: 1900, accuracy: 0.9900000095367432, loss: 0.013501116074621677\n",
            "Epoch: 2000, accuracy: 1.0, loss: 0.005002415738999844\n",
            "Epoch: 2100, accuracy: 1.0, loss: 0.007013615220785141\n",
            "Epoch: 2200, accuracy: 1.0, loss: 0.008337377570569515\n",
            "Epoch: 2300, accuracy: 1.0, loss: 0.0025606253184378147\n",
            "Epoch: 2400, accuracy: 1.0, loss: 0.002672155387699604\n",
            "Epoch: 2500, accuracy: 1.0, loss: 0.004259943496435881\n",
            "Epoch: 2600, accuracy: 1.0, loss: 0.008832385763525963\n",
            "Epoch: 2700, accuracy: 1.0, loss: 0.0033610945101827383\n",
            "Epoch: 2800, accuracy: 1.0, loss: 0.0035665587056428194\n",
            "Epoch: 2900, accuracy: 1.0, loss: 0.003752513322979212\n",
            "Epoch: 3000, accuracy: 1.0, loss: 0.0005453011835925281\n",
            "Epoch: 3100, accuracy: 1.0, loss: 0.002206989796832204\n",
            "Epoch: 3200, accuracy: 1.0, loss: 0.004038377199321985\n",
            "Epoch: 3300, accuracy: 1.0, loss: 0.004908937960863113\n",
            "Epoch: 3400, accuracy: 1.0, loss: 0.0013180529931560159\n",
            "Epoch: 3500, accuracy: 1.0, loss: 0.0022330351639539003\n",
            "Epoch: 3600, accuracy: 1.0, loss: 0.004770326893776655\n",
            "Epoch: 3700, accuracy: 1.0, loss: 0.0031813904643058777\n",
            "Epoch: 3800, accuracy: 1.0, loss: 0.0033304605167359114\n",
            "Epoch: 3900, accuracy: 1.0, loss: 0.0015453040832653642\n",
            "Epoch: 4000, accuracy: 1.0, loss: 0.0007190996548160911\n",
            "Epoch: 4100, accuracy: 1.0, loss: 0.007055912632495165\n",
            "Epoch: 4200, accuracy: 1.0, loss: 0.0017344069201499224\n",
            "Epoch: 4300, accuracy: 1.0, loss: 0.0010185756254941225\n",
            "Epoch: 4400, accuracy: 1.0, loss: 0.0021198326721787453\n",
            "Epoch: 4500, accuracy: 1.0, loss: 0.0006067732465453446\n",
            "Epoch: 4600, accuracy: 1.0, loss: 0.0021016893442720175\n",
            "Epoch: 4700, accuracy: 1.0, loss: 0.0018057044362649322\n",
            "Epoch: 4800, accuracy: 1.0, loss: 0.0016634810017421842\n",
            "Epoch: 4900, accuracy: 1.0, loss: 0.0011485690483823419\n",
            "Test accuracy: 0.9901999831199646\n"
          ],
          "name": "stdout"
        }
      ]
    },
    {
      "metadata": {
        "id": "woZHHjOlz9IX",
        "colab_type": "text"
      },
      "cell_type": "markdown",
      "source": [
        "### Print out some pictures like we did for the previous workshops"
      ]
    },
    {
      "metadata": {
        "id": "Ksnh8bgQx2ap",
        "colab_type": "code",
        "colab": {
          "autoexec": {
            "startup": false,
            "wait_interval": 0
          }
        }
      },
      "cell_type": "code",
      "source": [
        "def gen_image(arr):\n",
        "    two_d = (np.reshape(arr, (28, 28)) * 255).astype(np.uint8)\n",
        "    plt.imshow(two_d, interpolation='nearest', cmap='gray')\n",
        "    return plt\n",
        "\n",
        "with tf.Session() as sess:\n",
        "    saver.restore(sess, \"./saved_model.ckpt\")\n",
        "    X_new_scaled = mnist.test.images\n",
        "    z = logits.eval(feed_dict={x: X_new_scaled.reshape([-1, 28, 28, 1])})\n",
        "    y_pred = np.argmax(z, axis=1)\n",
        "    correct_prediction = tf.equal(tf.argmax(logits, 1), tf.argmax(y_, 1))\n",
        "    # Calculate accuracy\n",
        "    accuracy = tf.reduce_mean(tf.cast(correct_prediction, tf.float32))\n",
        "    print(accuracy.eval(feed_dict={x: mnist.test.images.reshape([-1, 28, 28, 1]), y_: mnist.test.labels}))\n",
        "    for i in range(100):\n",
        "        if i%3 == 0:\n",
        "            gen_image(mnist.test.images[i]).show()\n",
        "            print(\"Predition: \", y_pred[i])\n",
        "            print(\"Actual label: \", np.argmax(mnist.test.labels[i]))"
      ],
      "execution_count": 0,
      "outputs": []
    },
    {
      "metadata": {
        "id": "Xv2R1ylCcjZV",
        "colab_type": "text"
      },
      "cell_type": "markdown",
      "source": [
        "## Filter Visualization\n",
        "\n",
        "Let's take a look at how our model \"sees\" the inputs we give."
      ]
    },
    {
      "metadata": {
        "id": "uBIC0pJoz8TL",
        "colab_type": "code",
        "colab": {
          "autoexec": {
            "startup": false,
            "wait_interval": 0
          },
          "base_uri": "https://localhost:8080/",
          "height": 282
        },
        "outputId": "b38723ab-2834-41a1-d63e-7b9b87b36e7e",
        "executionInfo": {
          "status": "ok",
          "timestamp": 1526081518340,
          "user_tz": 420,
          "elapsed": 457,
          "user": {
            "displayName": "Henry Yang",
            "photoUrl": "//lh6.googleusercontent.com/-GXPDq6tqJwc/AAAAAAAAAAI/AAAAAAAAAuQ/rfqB3nVANgo/s50-c-k-no/photo.jpg",
            "userId": "103780741221149720480"
          }
        }
      },
      "cell_type": "code",
      "source": [
        "imageToUse = np.reshape(mnist.test.images[0], [28,28])\n",
        "plt.imshow(imageToUse, interpolation=\"nearest\", cmap=\"gray\")"
      ],
      "execution_count": 42,
      "outputs": [
        {
          "output_type": "execute_result",
          "data": {
            "text/plain": [
              "<matplotlib.image.AxesImage at 0x7fe5b776b208>"
            ]
          },
          "metadata": {
            "tags": []
          },
          "execution_count": 42
        },
        {
          "output_type": "display_data",
          "data": {
            "image/png": "[encoded data removed]",
            "text/plain": [
              "<matplotlib.figure.Figure at 0x7fe5b7c20940>"
            ]
          },
          "metadata": {
            "tags": []
          }
        }
      ]
    },
    {
      "metadata": {
        "id": "39mRqaIJbOue",
        "colab_type": "code",
        "colab": {
          "autoexec": {
            "startup": false,
            "wait_interval": 0
          }
        }
      },
      "cell_type": "code",
      "source": [
        "def getActivations(layer,stimuli, sess):\n",
        "    units = sess.run(layer,feed_dict={x:np.reshape(stimuli,[1, 28,28,1])})\n",
        "    plotNNFilter(units)"
      ],
      "execution_count": 0,
      "outputs": []
    },
    {
      "metadata": {
        "id": "cmekU-lzblsA",
        "colab_type": "code",
        "colab": {
          "autoexec": {
            "startup": false,
            "wait_interval": 0
          }
        }
      },
      "cell_type": "code",
      "source": [
        "def plotNNFilter(units):\n",
        "    filters = units.shape[3]\n",
        "    plt.figure(1, figsize=(20,20))\n",
        "    n_columns = 6\n",
        "    n_rows = math.ceil(filters / n_columns) + 1\n",
        "    for i in range(filters):\n",
        "        plt.subplot(n_rows, n_columns, i+1)\n",
        "        plt.title('Filter ' + str(i))\n",
        "        plt.imshow(units[0,:,:,i], interpolation=\"nearest\", cmap=\"gray\")"
      ],
      "execution_count": 0,
      "outputs": []
    },
    {
      "metadata": {
        "id": "D4Rpmm5zcISw",
        "colab_type": "code",
        "colab": {
          "autoexec": {
            "startup": false,
            "wait_interval": 0
          },
          "base_uri": "https://localhost:8080/",
          "height": 1008
        },
        "outputId": "d177fcbe-cdd3-42f2-84aa-87585d9c68c4",
        "executionInfo": {
          "status": "ok",
          "timestamp": 1526081526338,
          "user_tz": 420,
          "elapsed": 3380,
          "user": {
            "displayName": "Henry Yang",
            "photoUrl": "//lh6.googleusercontent.com/-GXPDq6tqJwc/AAAAAAAAAAI/AAAAAAAAAuQ/rfqB3nVANgo/s50-c-k-no/photo.jpg",
            "userId": "103780741221149720480"
          }
        }
      },
      "cell_type": "code",
      "source": [
        "with tf.Session() as sess:\n",
        "  saver.restore(sess, \"./saved_model.ckpt\")\n",
        "  getActivations(h_relu1,imageToUse, sess)"
      ],
      "execution_count": 43,
      "outputs": [
        {
          "output_type": "stream",
          "text": [
            "INFO:tensorflow:Restoring parameters from ./saved_model.ckpt\n"
          ],
          "name": "stdout"
        },
        {
          "output_type": "display_data",
          "data": {
            "image/png": "[encoded data removed]",
            "text/plain": [
              "<matplotlib.figure.Figure at 0x7fe5b7f98978>"
            ]
          },
          "metadata": {
            "tags": []
          }
        }
      ]
    },
    {
      "metadata": {
        "id": "boJ_nH0ecTx6",
        "colab_type": "code",
        "colab": {
          "autoexec": {
            "startup": false,
            "wait_interval": 0
          }
        }
      },
      "cell_type": "code",
      "source": [
        ""
      ],
      "execution_count": 0,
      "outputs": []
    }
  ]
}